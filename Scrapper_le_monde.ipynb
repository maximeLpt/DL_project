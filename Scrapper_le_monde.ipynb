{
  "nbformat": 4,
  "nbformat_minor": 0,
  "metadata": {
    "colab": {
      "name": "Scrapper_le_monde.ipynb",
      "provenance": [],
      "collapsed_sections": []
    },
    "kernelspec": {
      "display_name": "Python 3",
      "name": "python3"
    },
    "widgets": {
      "application/vnd.jupyter.widget-state+json": {
        "fa0aa2ae8842417ba280105eccb66721": {
          "model_module": "@jupyter-widgets/controls",
          "model_name": "HBoxModel",
          "state": {
            "_view_name": "HBoxView",
            "_dom_classes": [],
            "_model_name": "HBoxModel",
            "_view_module": "@jupyter-widgets/controls",
            "_model_module_version": "1.5.0",
            "_view_count": null,
            "_view_module_version": "1.5.0",
            "box_style": "",
            "layout": "IPY_MODEL_78f8513b55bc4c59820e8577d52eded0",
            "_model_module": "@jupyter-widgets/controls",
            "children": [
              "IPY_MODEL_0ccd9728579043149d7341010d8ca6ed",
              "IPY_MODEL_089af218c70542d481b46e0fc81a2417"
            ]
          }
        },
        "78f8513b55bc4c59820e8577d52eded0": {
          "model_module": "@jupyter-widgets/base",
          "model_name": "LayoutModel",
          "state": {
            "_view_name": "LayoutView",
            "grid_template_rows": null,
            "right": null,
            "justify_content": null,
            "_view_module": "@jupyter-widgets/base",
            "overflow": null,
            "_model_module_version": "1.2.0",
            "_view_count": null,
            "flex_flow": null,
            "width": null,
            "min_width": null,
            "border": null,
            "align_items": null,
            "bottom": null,
            "_model_module": "@jupyter-widgets/base",
            "top": null,
            "grid_column": null,
            "overflow_y": null,
            "overflow_x": null,
            "grid_auto_flow": null,
            "grid_area": null,
            "grid_template_columns": null,
            "flex": null,
            "_model_name": "LayoutModel",
            "justify_items": null,
            "grid_row": null,
            "max_height": null,
            "align_content": null,
            "visibility": null,
            "align_self": null,
            "height": null,
            "min_height": null,
            "padding": null,
            "grid_auto_rows": null,
            "grid_gap": null,
            "max_width": null,
            "order": null,
            "_view_module_version": "1.2.0",
            "grid_template_areas": null,
            "object_position": null,
            "object_fit": null,
            "grid_auto_columns": null,
            "margin": null,
            "display": null,
            "left": null
          }
        },
        "0ccd9728579043149d7341010d8ca6ed": {
          "model_module": "@jupyter-widgets/controls",
          "model_name": "FloatProgressModel",
          "state": {
            "_view_name": "ProgressView",
            "style": "IPY_MODEL_ea30cfd68ec54e17b081a01f2126adf5",
            "_dom_classes": [],
            "description": "Pandas Apply: 100%",
            "_model_name": "FloatProgressModel",
            "bar_style": "success",
            "max": 2270,
            "_view_module": "@jupyter-widgets/controls",
            "_model_module_version": "1.5.0",
            "value": 2270,
            "_view_count": null,
            "_view_module_version": "1.5.0",
            "orientation": "horizontal",
            "min": 0,
            "description_tooltip": null,
            "_model_module": "@jupyter-widgets/controls",
            "layout": "IPY_MODEL_752bb6be7ac44076998bacd2acea5449"
          }
        },
        "089af218c70542d481b46e0fc81a2417": {
          "model_module": "@jupyter-widgets/controls",
          "model_name": "HTMLModel",
          "state": {
            "_view_name": "HTMLView",
            "style": "IPY_MODEL_d68b3ae5252e4c62a1d728b0dc4e689b",
            "_dom_classes": [],
            "description": "",
            "_model_name": "HTMLModel",
            "placeholder": "​",
            "_view_module": "@jupyter-widgets/controls",
            "_model_module_version": "1.5.0",
            "value": " 2270/2270 [08:49&lt;00:00,  4.29it/s]",
            "_view_count": null,
            "_view_module_version": "1.5.0",
            "description_tooltip": null,
            "_model_module": "@jupyter-widgets/controls",
            "layout": "IPY_MODEL_ffbf4730bb10462f86a090ba6e3cb0ff"
          }
        },
        "ea30cfd68ec54e17b081a01f2126adf5": {
          "model_module": "@jupyter-widgets/controls",
          "model_name": "ProgressStyleModel",
          "state": {
            "_view_name": "StyleView",
            "_model_name": "ProgressStyleModel",
            "description_width": "initial",
            "_view_module": "@jupyter-widgets/base",
            "_model_module_version": "1.5.0",
            "_view_count": null,
            "_view_module_version": "1.2.0",
            "bar_color": null,
            "_model_module": "@jupyter-widgets/controls"
          }
        },
        "752bb6be7ac44076998bacd2acea5449": {
          "model_module": "@jupyter-widgets/base",
          "model_name": "LayoutModel",
          "state": {
            "_view_name": "LayoutView",
            "grid_template_rows": null,
            "right": null,
            "justify_content": null,
            "_view_module": "@jupyter-widgets/base",
            "overflow": null,
            "_model_module_version": "1.2.0",
            "_view_count": null,
            "flex_flow": null,
            "width": null,
            "min_width": null,
            "border": null,
            "align_items": null,
            "bottom": null,
            "_model_module": "@jupyter-widgets/base",
            "top": null,
            "grid_column": null,
            "overflow_y": null,
            "overflow_x": null,
            "grid_auto_flow": null,
            "grid_area": null,
            "grid_template_columns": null,
            "flex": null,
            "_model_name": "LayoutModel",
            "justify_items": null,
            "grid_row": null,
            "max_height": null,
            "align_content": null,
            "visibility": null,
            "align_self": null,
            "height": null,
            "min_height": null,
            "padding": null,
            "grid_auto_rows": null,
            "grid_gap": null,
            "max_width": null,
            "order": null,
            "_view_module_version": "1.2.0",
            "grid_template_areas": null,
            "object_position": null,
            "object_fit": null,
            "grid_auto_columns": null,
            "margin": null,
            "display": null,
            "left": null
          }
        },
        "d68b3ae5252e4c62a1d728b0dc4e689b": {
          "model_module": "@jupyter-widgets/controls",
          "model_name": "DescriptionStyleModel",
          "state": {
            "_view_name": "StyleView",
            "_model_name": "DescriptionStyleModel",
            "description_width": "",
            "_view_module": "@jupyter-widgets/base",
            "_model_module_version": "1.5.0",
            "_view_count": null,
            "_view_module_version": "1.2.0",
            "_model_module": "@jupyter-widgets/controls"
          }
        },
        "ffbf4730bb10462f86a090ba6e3cb0ff": {
          "model_module": "@jupyter-widgets/base",
          "model_name": "LayoutModel",
          "state": {
            "_view_name": "LayoutView",
            "grid_template_rows": null,
            "right": null,
            "justify_content": null,
            "_view_module": "@jupyter-widgets/base",
            "overflow": null,
            "_model_module_version": "1.2.0",
            "_view_count": null,
            "flex_flow": null,
            "width": null,
            "min_width": null,
            "border": null,
            "align_items": null,
            "bottom": null,
            "_model_module": "@jupyter-widgets/base",
            "top": null,
            "grid_column": null,
            "overflow_y": null,
            "overflow_x": null,
            "grid_auto_flow": null,
            "grid_area": null,
            "grid_template_columns": null,
            "flex": null,
            "_model_name": "LayoutModel",
            "justify_items": null,
            "grid_row": null,
            "max_height": null,
            "align_content": null,
            "visibility": null,
            "align_self": null,
            "height": null,
            "min_height": null,
            "padding": null,
            "grid_auto_rows": null,
            "grid_gap": null,
            "max_width": null,
            "order": null,
            "_view_module_version": "1.2.0",
            "grid_template_areas": null,
            "object_position": null,
            "object_fit": null,
            "grid_auto_columns": null,
            "margin": null,
            "display": null,
            "left": null
          }
        }
      }
    }
  },
  "cells": [
    {
      "cell_type": "code",
      "metadata": {
        "colab": {
          "base_uri": "https://localhost:8080/",
          "height": 1000
        },
        "id": "rpp-bf6My8Bx",
        "outputId": "66901582-d998-4f13-ac97-9210a0ff5d81"
      },
      "source": [
        "!pip install swifter"
      ],
      "execution_count": null,
      "outputs": [
        {
          "output_type": "stream",
          "text": [
            "Collecting swifter\n",
            "\u001b[?25l  Downloading https://files.pythonhosted.org/packages/f4/3b/04bf42b94a22725241b47e0256458cde11f86f97572dd824e011f1ea8b20/swifter-1.0.7.tar.gz (633kB)\n",
            "\r\u001b[K     |▌                               | 10kB 16.3MB/s eta 0:00:01\r\u001b[K     |█                               | 20kB 19.4MB/s eta 0:00:01\r\u001b[K     |█▌                              | 30kB 23.5MB/s eta 0:00:01\r\u001b[K     |██                              | 40kB 19.3MB/s eta 0:00:01\r\u001b[K     |██▋                             | 51kB 14.7MB/s eta 0:00:01\r\u001b[K     |███                             | 61kB 15.8MB/s eta 0:00:01\r\u001b[K     |███▋                            | 71kB 13.6MB/s eta 0:00:01\r\u001b[K     |████▏                           | 81kB 13.9MB/s eta 0:00:01\r\u001b[K     |████▋                           | 92kB 12.8MB/s eta 0:00:01\r\u001b[K     |█████▏                          | 102kB 12.9MB/s eta 0:00:01\r\u001b[K     |█████▊                          | 112kB 12.9MB/s eta 0:00:01\r\u001b[K     |██████▏                         | 122kB 12.9MB/s eta 0:00:01\r\u001b[K     |██████▊                         | 133kB 12.9MB/s eta 0:00:01\r\u001b[K     |███████▎                        | 143kB 12.9MB/s eta 0:00:01\r\u001b[K     |███████▊                        | 153kB 12.9MB/s eta 0:00:01\r\u001b[K     |████████▎                       | 163kB 12.9MB/s eta 0:00:01\r\u001b[K     |████████▉                       | 174kB 12.9MB/s eta 0:00:01\r\u001b[K     |█████████▎                      | 184kB 12.9MB/s eta 0:00:01\r\u001b[K     |█████████▉                      | 194kB 12.9MB/s eta 0:00:01\r\u001b[K     |██████████▍                     | 204kB 12.9MB/s eta 0:00:01\r\u001b[K     |██████████▉                     | 215kB 12.9MB/s eta 0:00:01\r\u001b[K     |███████████▍                    | 225kB 12.9MB/s eta 0:00:01\r\u001b[K     |████████████                    | 235kB 12.9MB/s eta 0:00:01\r\u001b[K     |████████████▍                   | 245kB 12.9MB/s eta 0:00:01\r\u001b[K     |█████████████                   | 256kB 12.9MB/s eta 0:00:01\r\u001b[K     |█████████████▌                  | 266kB 12.9MB/s eta 0:00:01\r\u001b[K     |██████████████                  | 276kB 12.9MB/s eta 0:00:01\r\u001b[K     |██████████████▌                 | 286kB 12.9MB/s eta 0:00:01\r\u001b[K     |███████████████                 | 296kB 12.9MB/s eta 0:00:01\r\u001b[K     |███████████████▌                | 307kB 12.9MB/s eta 0:00:01\r\u001b[K     |████████████████                | 317kB 12.9MB/s eta 0:00:01\r\u001b[K     |████████████████▋               | 327kB 12.9MB/s eta 0:00:01\r\u001b[K     |█████████████████               | 337kB 12.9MB/s eta 0:00:01\r\u001b[K     |█████████████████▋              | 348kB 12.9MB/s eta 0:00:01\r\u001b[K     |██████████████████▏             | 358kB 12.9MB/s eta 0:00:01\r\u001b[K     |██████████████████▋             | 368kB 12.9MB/s eta 0:00:01\r\u001b[K     |███████████████████▏            | 378kB 12.9MB/s eta 0:00:01\r\u001b[K     |███████████████████▋            | 389kB 12.9MB/s eta 0:00:01\r\u001b[K     |████████████████████▏           | 399kB 12.9MB/s eta 0:00:01\r\u001b[K     |████████████████████▊           | 409kB 12.9MB/s eta 0:00:01\r\u001b[K     |█████████████████████▏          | 419kB 12.9MB/s eta 0:00:01\r\u001b[K     |█████████████████████▊          | 430kB 12.9MB/s eta 0:00:01\r\u001b[K     |██████████████████████▎         | 440kB 12.9MB/s eta 0:00:01\r\u001b[K     |██████████████████████▊         | 450kB 12.9MB/s eta 0:00:01\r\u001b[K     |███████████████████████▎        | 460kB 12.9MB/s eta 0:00:01\r\u001b[K     |███████████████████████▉        | 471kB 12.9MB/s eta 0:00:01\r\u001b[K     |████████████████████████▎       | 481kB 12.9MB/s eta 0:00:01\r\u001b[K     |████████████████████████▉       | 491kB 12.9MB/s eta 0:00:01\r\u001b[K     |█████████████████████████▍      | 501kB 12.9MB/s eta 0:00:01\r\u001b[K     |█████████████████████████▉      | 512kB 12.9MB/s eta 0:00:01\r\u001b[K     |██████████████████████████▍     | 522kB 12.9MB/s eta 0:00:01\r\u001b[K     |███████████████████████████     | 532kB 12.9MB/s eta 0:00:01\r\u001b[K     |███████████████████████████▍    | 542kB 12.9MB/s eta 0:00:01\r\u001b[K     |████████████████████████████    | 552kB 12.9MB/s eta 0:00:01\r\u001b[K     |████████████████████████████▌   | 563kB 12.9MB/s eta 0:00:01\r\u001b[K     |█████████████████████████████   | 573kB 12.9MB/s eta 0:00:01\r\u001b[K     |█████████████████████████████▌  | 583kB 12.9MB/s eta 0:00:01\r\u001b[K     |██████████████████████████████  | 593kB 12.9MB/s eta 0:00:01\r\u001b[K     |██████████████████████████████▌ | 604kB 12.9MB/s eta 0:00:01\r\u001b[K     |███████████████████████████████ | 614kB 12.9MB/s eta 0:00:01\r\u001b[K     |███████████████████████████████▋| 624kB 12.9MB/s eta 0:00:01\r\u001b[K     |████████████████████████████████| 634kB 12.9MB/s \n",
            "\u001b[?25hRequirement already satisfied: pandas>=1.0.0 in /usr/local/lib/python3.7/dist-packages (from swifter) (1.1.5)\n",
            "Collecting psutil>=5.6.6\n",
            "\u001b[?25l  Downloading https://files.pythonhosted.org/packages/84/da/f7efdcf012b51506938553dbe302aecc22f3f43abd5cffa8320e8e0588d5/psutil-5.8.0-cp37-cp37m-manylinux2010_x86_64.whl (296kB)\n",
            "\u001b[K     |████████████████████████████████| 296kB 30.1MB/s \n",
            "\u001b[?25hRequirement already satisfied: dask[dataframe]>=2.10.0 in /usr/local/lib/python3.7/dist-packages (from swifter) (2.12.0)\n",
            "Requirement already satisfied: tqdm>=4.33.0 in /usr/local/lib/python3.7/dist-packages (from swifter) (4.41.1)\n",
            "Requirement already satisfied: ipywidgets>=7.0.0cloudpickle>=0.2.2 in /usr/local/lib/python3.7/dist-packages (from swifter) (7.6.3)\n",
            "Requirement already satisfied: parso>0.4.0 in /usr/local/lib/python3.7/dist-packages (from swifter) (0.8.1)\n",
            "Requirement already satisfied: bleach>=3.1.1 in /usr/local/lib/python3.7/dist-packages (from swifter) (3.3.0)\n",
            "Collecting modin[ray]>=0.8.1.1\n",
            "\u001b[?25l  Downloading https://files.pythonhosted.org/packages/e6/fe/b22244534207012d76e03f81f98ef5729cbb597df38dace429f44fc1a084/modin-0.9.0-py3-none-manylinux1_x86_64.whl (606kB)\n",
            "\u001b[K     |████████████████████████████████| 614kB 43.0MB/s \n",
            "\u001b[?25hRequirement already satisfied: python-dateutil>=2.7.3 in /usr/local/lib/python3.7/dist-packages (from pandas>=1.0.0->swifter) (2.8.1)\n",
            "Requirement already satisfied: numpy>=1.15.4 in /usr/local/lib/python3.7/dist-packages (from pandas>=1.0.0->swifter) (1.19.5)\n",
            "Requirement already satisfied: pytz>=2017.2 in /usr/local/lib/python3.7/dist-packages (from pandas>=1.0.0->swifter) (2018.9)\n",
            "Requirement already satisfied: toolz>=0.7.3; extra == \"dataframe\" in /usr/local/lib/python3.7/dist-packages (from dask[dataframe]>=2.10.0->swifter) (0.11.1)\n",
            "Collecting fsspec>=0.6.0; extra == \"dataframe\"\n",
            "\u001b[?25l  Downloading https://files.pythonhosted.org/packages/91/0d/a6bfee0ddf47b254286b9bd574e6f50978c69897647ae15b14230711806e/fsspec-0.8.7-py3-none-any.whl (103kB)\n",
            "\u001b[K     |████████████████████████████████| 112kB 46.8MB/s \n",
            "\u001b[?25hCollecting partd>=0.3.10; extra == \"dataframe\"\n",
            "  Downloading https://files.pythonhosted.org/packages/44/e1/68dbe731c9c067655bff1eca5b7d40c20ca4b23fd5ec9f3d17e201a6f36b/partd-1.1.0-py3-none-any.whl\n",
            "Requirement already satisfied: ipykernel>=4.5.1 in /usr/local/lib/python3.7/dist-packages (from ipywidgets>=7.0.0cloudpickle>=0.2.2->swifter) (4.10.1)\n",
            "Requirement already satisfied: jupyterlab-widgets>=1.0.0; python_version >= \"3.6\" in /usr/local/lib/python3.7/dist-packages (from ipywidgets>=7.0.0cloudpickle>=0.2.2->swifter) (1.0.0)\n",
            "Requirement already satisfied: widgetsnbextension~=3.5.0 in /usr/local/lib/python3.7/dist-packages (from ipywidgets>=7.0.0cloudpickle>=0.2.2->swifter) (3.5.1)\n",
            "Requirement already satisfied: traitlets>=4.3.1 in /usr/local/lib/python3.7/dist-packages (from ipywidgets>=7.0.0cloudpickle>=0.2.2->swifter) (5.0.5)\n",
            "Requirement already satisfied: nbformat>=4.2.0 in /usr/local/lib/python3.7/dist-packages (from ipywidgets>=7.0.0cloudpickle>=0.2.2->swifter) (5.1.2)\n",
            "Requirement already satisfied: ipython>=4.0.0; python_version >= \"3.3\" in /usr/local/lib/python3.7/dist-packages (from ipywidgets>=7.0.0cloudpickle>=0.2.2->swifter) (5.5.0)\n",
            "Requirement already satisfied: six>=1.9.0 in /usr/local/lib/python3.7/dist-packages (from bleach>=3.1.1->swifter) (1.15.0)\n",
            "Requirement already satisfied: webencodings in /usr/local/lib/python3.7/dist-packages (from bleach>=3.1.1->swifter) (0.5.1)\n",
            "Requirement already satisfied: packaging in /usr/local/lib/python3.7/dist-packages (from bleach>=3.1.1->swifter) (20.9)\n",
            "Collecting pyarrow==1.0; extra == \"ray\"\n",
            "\u001b[?25l  Downloading https://files.pythonhosted.org/packages/45/f4/a86a09ae9944ed3c10e2a628dee3e4c37b81f42063ab4f554d6962bc048d/pyarrow-1.0.0-cp37-cp37m-manylinux2014_x86_64.whl (17.2MB)\n",
            "\u001b[K     |████████████████████████████████| 17.2MB 225kB/s \n",
            "\u001b[?25hCollecting ray<1.2.0,>=1.0.0; extra == \"ray\"\n",
            "\u001b[?25l  Downloading https://files.pythonhosted.org/packages/dd/bc/e1ae5b67cd8e0a4ca84f9a59b65b210daf4ed1d9ad69c035f1824aa1256f/ray-1.1.0-cp37-cp37m-manylinux2014_x86_64.whl (48.5MB)\n",
            "\u001b[K     |████████████████████████████████| 48.5MB 69kB/s \n",
            "\u001b[?25hRequirement already satisfied: importlib-metadata; python_version < \"3.8\" in /usr/local/lib/python3.7/dist-packages (from fsspec>=0.6.0; extra == \"dataframe\"->dask[dataframe]>=2.10.0->swifter) (3.7.0)\n",
            "Collecting locket\n",
            "  Downloading https://files.pythonhosted.org/packages/50/b8/e789e45b9b9c2db75e9d9e6ceb022c8d1d7e49b2c085ce8c05600f90a96b/locket-0.2.1-py2.py3-none-any.whl\n",
            "Requirement already satisfied: jupyter-client in /usr/local/lib/python3.7/dist-packages (from ipykernel>=4.5.1->ipywidgets>=7.0.0cloudpickle>=0.2.2->swifter) (5.3.5)\n",
            "Requirement already satisfied: tornado>=4.0 in /usr/local/lib/python3.7/dist-packages (from ipykernel>=4.5.1->ipywidgets>=7.0.0cloudpickle>=0.2.2->swifter) (5.1.1)\n",
            "Requirement already satisfied: notebook>=4.4.1 in /usr/local/lib/python3.7/dist-packages (from widgetsnbextension~=3.5.0->ipywidgets>=7.0.0cloudpickle>=0.2.2->swifter) (5.3.1)\n",
            "Requirement already satisfied: ipython-genutils in /usr/local/lib/python3.7/dist-packages (from traitlets>=4.3.1->ipywidgets>=7.0.0cloudpickle>=0.2.2->swifter) (0.2.0)\n",
            "Requirement already satisfied: jsonschema!=2.5.0,>=2.4 in /usr/local/lib/python3.7/dist-packages (from nbformat>=4.2.0->ipywidgets>=7.0.0cloudpickle>=0.2.2->swifter) (2.6.0)\n",
            "Requirement already satisfied: jupyter-core in /usr/local/lib/python3.7/dist-packages (from nbformat>=4.2.0->ipywidgets>=7.0.0cloudpickle>=0.2.2->swifter) (4.7.1)\n",
            "Requirement already satisfied: pexpect; sys_platform != \"win32\" in /usr/local/lib/python3.7/dist-packages (from ipython>=4.0.0; python_version >= \"3.3\"->ipywidgets>=7.0.0cloudpickle>=0.2.2->swifter) (4.8.0)\n",
            "Requirement already satisfied: simplegeneric>0.8 in /usr/local/lib/python3.7/dist-packages (from ipython>=4.0.0; python_version >= \"3.3\"->ipywidgets>=7.0.0cloudpickle>=0.2.2->swifter) (0.8.1)\n",
            "Requirement already satisfied: pickleshare in /usr/local/lib/python3.7/dist-packages (from ipython>=4.0.0; python_version >= \"3.3\"->ipywidgets>=7.0.0cloudpickle>=0.2.2->swifter) (0.7.5)\n",
            "Requirement already satisfied: pygments in /usr/local/lib/python3.7/dist-packages (from ipython>=4.0.0; python_version >= \"3.3\"->ipywidgets>=7.0.0cloudpickle>=0.2.2->swifter) (2.6.1)\n",
            "Requirement already satisfied: decorator in /usr/local/lib/python3.7/dist-packages (from ipython>=4.0.0; python_version >= \"3.3\"->ipywidgets>=7.0.0cloudpickle>=0.2.2->swifter) (4.4.2)\n",
            "Requirement already satisfied: prompt-toolkit<2.0.0,>=1.0.4 in /usr/local/lib/python3.7/dist-packages (from ipython>=4.0.0; python_version >= \"3.3\"->ipywidgets>=7.0.0cloudpickle>=0.2.2->swifter) (1.0.18)\n",
            "Requirement already satisfied: setuptools>=18.5 in /usr/local/lib/python3.7/dist-packages (from ipython>=4.0.0; python_version >= \"3.3\"->ipywidgets>=7.0.0cloudpickle>=0.2.2->swifter) (54.0.0)\n",
            "Requirement already satisfied: pyparsing>=2.0.2 in /usr/local/lib/python3.7/dist-packages (from packaging->bleach>=3.1.1->swifter) (2.4.7)\n",
            "Requirement already satisfied: prometheus-client>=0.7.1 in /usr/local/lib/python3.7/dist-packages (from ray<1.2.0,>=1.0.0; extra == \"ray\"->modin[ray]>=0.8.1.1->swifter) (0.9.0)\n",
            "Collecting aioredis\n",
            "\u001b[?25l  Downloading https://files.pythonhosted.org/packages/b0/64/1b1612d0a104f21f80eb4c6e1b6075f2e6aba8e228f46f229cfd3fdac859/aioredis-1.3.1-py3-none-any.whl (65kB)\n",
            "\u001b[K     |████████████████████████████████| 71kB 5.9MB/s \n",
            "\u001b[?25hRequirement already satisfied: filelock in /usr/local/lib/python3.7/dist-packages (from ray<1.2.0,>=1.0.0; extra == \"ray\"->modin[ray]>=0.8.1.1->swifter) (3.0.12)\n",
            "Collecting py-spy>=0.2.0\n",
            "\u001b[?25l  Downloading https://files.pythonhosted.org/packages/0c/b7/2056a6f06adb93f679f2a1e415dd33219b7c66ba69b8fd2ff1668b8064ed/py_spy-0.3.4-py2.py3-none-manylinux1_x86_64.whl (3.2MB)\n",
            "\u001b[K     |████████████████████████████████| 3.2MB 44.1MB/s \n",
            "\u001b[?25hCollecting gpustat\n",
            "\u001b[?25l  Downloading https://files.pythonhosted.org/packages/b4/69/d8c849715171aeabd61af7da080fdc60948b5a396d2422f1f4672e43d008/gpustat-0.6.0.tar.gz (78kB)\n",
            "\u001b[K     |████████████████████████████████| 81kB 6.3MB/s \n",
            "\u001b[?25hCollecting colorful\n",
            "\u001b[?25l  Downloading https://files.pythonhosted.org/packages/b0/8e/e386e248266952d24d73ed734c2f5513f34d9557032618c8910e605dfaf6/colorful-0.5.4-py2.py3-none-any.whl (201kB)\n",
            "\u001b[K     |████████████████████████████████| 204kB 48.3MB/s \n",
            "\u001b[?25hCollecting aiohttp-cors\n",
            "  Downloading https://files.pythonhosted.org/packages/13/e7/e436a0c0eb5127d8b491a9b83ecd2391c6ff7dcd5548dfaec2080a2340fd/aiohttp_cors-0.7.0-py3-none-any.whl\n",
            "Collecting opencensus\n",
            "\u001b[?25l  Downloading https://files.pythonhosted.org/packages/e2/d6/b952f11b29c3a0cbec5620de3c4260cecd8c4329d83e91587edb48691e15/opencensus-0.7.12-py2.py3-none-any.whl (127kB)\n",
            "\u001b[K     |████████████████████████████████| 133kB 40.8MB/s \n",
            "\u001b[?25hRequirement already satisfied: requests in /usr/local/lib/python3.7/dist-packages (from ray<1.2.0,>=1.0.0; extra == \"ray\"->modin[ray]>=0.8.1.1->swifter) (2.23.0)\n",
            "Requirement already satisfied: pyyaml in /usr/local/lib/python3.7/dist-packages (from ray<1.2.0,>=1.0.0; extra == \"ray\"->modin[ray]>=0.8.1.1->swifter) (3.13)\n",
            "Requirement already satisfied: grpcio>=1.28.1 in /usr/local/lib/python3.7/dist-packages (from ray<1.2.0,>=1.0.0; extra == \"ray\"->modin[ray]>=0.8.1.1->swifter) (1.32.0)\n",
            "Requirement already satisfied: click>=7.0 in /usr/local/lib/python3.7/dist-packages (from ray<1.2.0,>=1.0.0; extra == \"ray\"->modin[ray]>=0.8.1.1->swifter) (7.1.2)\n",
            "Requirement already satisfied: msgpack<2.0.0,>=1.0.0 in /usr/local/lib/python3.7/dist-packages (from ray<1.2.0,>=1.0.0; extra == \"ray\"->modin[ray]>=0.8.1.1->swifter) (1.0.2)\n",
            "Collecting colorama\n",
            "  Downloading https://files.pythonhosted.org/packages/44/98/5b86278fbbf250d239ae0ecb724f8572af1c91f4a11edf4d36a206189440/colorama-0.4.4-py2.py3-none-any.whl\n",
            "Requirement already satisfied: protobuf>=3.8.0 in /usr/local/lib/python3.7/dist-packages (from ray<1.2.0,>=1.0.0; extra == \"ray\"->modin[ray]>=0.8.1.1->swifter) (3.12.4)\n",
            "Collecting redis>=3.5.0\n",
            "\u001b[?25l  Downloading https://files.pythonhosted.org/packages/a7/7c/24fb0511df653cf1a5d938d8f5d19802a88cef255706fdda242ff97e91b7/redis-3.5.3-py2.py3-none-any.whl (72kB)\n",
            "\u001b[K     |████████████████████████████████| 81kB 6.1MB/s \n",
            "\u001b[?25hCollecting aiohttp\n",
            "\u001b[?25l  Downloading https://files.pythonhosted.org/packages/88/c0/5890b4c8b04a79b7360e8fe4490feb0bb3ab179743f199f0e6220cebd568/aiohttp-3.7.4.post0-cp37-cp37m-manylinux2014_x86_64.whl (1.3MB)\n",
            "\u001b[K     |████████████████████████████████| 1.3MB 40.0MB/s \n",
            "\u001b[?25hRequirement already satisfied: zipp>=0.5 in /usr/local/lib/python3.7/dist-packages (from importlib-metadata; python_version < \"3.8\"->fsspec>=0.6.0; extra == \"dataframe\"->dask[dataframe]>=2.10.0->swifter) (3.4.1)\n",
            "Requirement already satisfied: typing-extensions>=3.6.4; python_version < \"3.8\" in /usr/local/lib/python3.7/dist-packages (from importlib-metadata; python_version < \"3.8\"->fsspec>=0.6.0; extra == \"dataframe\"->dask[dataframe]>=2.10.0->swifter) (3.7.4.3)\n",
            "Requirement already satisfied: pyzmq>=13 in /usr/local/lib/python3.7/dist-packages (from jupyter-client->ipykernel>=4.5.1->ipywidgets>=7.0.0cloudpickle>=0.2.2->swifter) (22.0.3)\n",
            "Requirement already satisfied: jinja2 in /usr/local/lib/python3.7/dist-packages (from notebook>=4.4.1->widgetsnbextension~=3.5.0->ipywidgets>=7.0.0cloudpickle>=0.2.2->swifter) (2.11.3)\n",
            "Requirement already satisfied: nbconvert in /usr/local/lib/python3.7/dist-packages (from notebook>=4.4.1->widgetsnbextension~=3.5.0->ipywidgets>=7.0.0cloudpickle>=0.2.2->swifter) (5.6.1)\n",
            "Requirement already satisfied: Send2Trash in /usr/local/lib/python3.7/dist-packages (from notebook>=4.4.1->widgetsnbextension~=3.5.0->ipywidgets>=7.0.0cloudpickle>=0.2.2->swifter) (1.5.0)\n",
            "Requirement already satisfied: terminado>=0.8.1 in /usr/local/lib/python3.7/dist-packages (from notebook>=4.4.1->widgetsnbextension~=3.5.0->ipywidgets>=7.0.0cloudpickle>=0.2.2->swifter) (0.9.2)\n",
            "Requirement already satisfied: ptyprocess>=0.5 in /usr/local/lib/python3.7/dist-packages (from pexpect; sys_platform != \"win32\"->ipython>=4.0.0; python_version >= \"3.3\"->ipywidgets>=7.0.0cloudpickle>=0.2.2->swifter) (0.7.0)\n",
            "Requirement already satisfied: wcwidth in /usr/local/lib/python3.7/dist-packages (from prompt-toolkit<2.0.0,>=1.0.4->ipython>=4.0.0; python_version >= \"3.3\"->ipywidgets>=7.0.0cloudpickle>=0.2.2->swifter) (0.2.5)\n",
            "Collecting async-timeout\n",
            "  Downloading https://files.pythonhosted.org/packages/e1/1e/5a4441be21b0726c4464f3f23c8b19628372f606755a9d2e46c187e65ec4/async_timeout-3.0.1-py3-none-any.whl\n",
            "Collecting hiredis\n",
            "\u001b[?25l  Downloading https://files.pythonhosted.org/packages/ed/09/986288478cd05126c7f8eeec912d051b8e4fa52965d5c26d066d6dbce194/hiredis-1.1.0-cp37-cp37m-manylinux2010_x86_64.whl (62kB)\n",
            "\u001b[K     |████████████████████████████████| 71kB 5.5MB/s \n",
            "\u001b[?25hRequirement already satisfied: nvidia-ml-py3>=7.352.0 in /usr/local/lib/python3.7/dist-packages (from gpustat->ray<1.2.0,>=1.0.0; extra == \"ray\"->modin[ray]>=0.8.1.1->swifter) (7.352.0)\n",
            "Collecting blessings>=1.6\n",
            "  Downloading https://files.pythonhosted.org/packages/03/74/489f85a78247609c6b4f13733cbf3ba0d864b11aa565617b645d6fdf2a4a/blessings-1.7-py3-none-any.whl\n",
            "Requirement already satisfied: google-api-core<2.0.0,>=1.0.0 in /usr/local/lib/python3.7/dist-packages (from opencensus->ray<1.2.0,>=1.0.0; extra == \"ray\"->modin[ray]>=0.8.1.1->swifter) (1.26.1)\n",
            "Collecting opencensus-context==0.1.2\n",
            "  Downloading https://files.pythonhosted.org/packages/f1/33/990f1bd9e7ee770fc8d3c154fc24743a96f16a0e49e14e1b7540cc2fdd93/opencensus_context-0.1.2-py2.py3-none-any.whl\n",
            "Requirement already satisfied: chardet<4,>=3.0.2 in /usr/local/lib/python3.7/dist-packages (from requests->ray<1.2.0,>=1.0.0; extra == \"ray\"->modin[ray]>=0.8.1.1->swifter) (3.0.4)\n",
            "Requirement already satisfied: urllib3!=1.25.0,!=1.25.1,<1.26,>=1.21.1 in /usr/local/lib/python3.7/dist-packages (from requests->ray<1.2.0,>=1.0.0; extra == \"ray\"->modin[ray]>=0.8.1.1->swifter) (1.24.3)\n",
            "Requirement already satisfied: certifi>=2017.4.17 in /usr/local/lib/python3.7/dist-packages (from requests->ray<1.2.0,>=1.0.0; extra == \"ray\"->modin[ray]>=0.8.1.1->swifter) (2020.12.5)\n",
            "Requirement already satisfied: idna<3,>=2.5 in /usr/local/lib/python3.7/dist-packages (from requests->ray<1.2.0,>=1.0.0; extra == \"ray\"->modin[ray]>=0.8.1.1->swifter) (2.10)\n",
            "Requirement already satisfied: attrs>=17.3.0 in /usr/local/lib/python3.7/dist-packages (from aiohttp->ray<1.2.0,>=1.0.0; extra == \"ray\"->modin[ray]>=0.8.1.1->swifter) (20.3.0)\n",
            "Collecting yarl<2.0,>=1.0\n",
            "\u001b[?25l  Downloading https://files.pythonhosted.org/packages/f1/62/046834c5fc998c88ab2ef722f5d42122230a632212c8afa76418324f53ff/yarl-1.6.3-cp37-cp37m-manylinux2014_x86_64.whl (294kB)\n",
            "\u001b[K     |████████████████████████████████| 296kB 47.6MB/s \n",
            "\u001b[?25hCollecting multidict<7.0,>=4.5\n",
            "\u001b[?25l  Downloading https://files.pythonhosted.org/packages/7c/a6/4123b8165acbe773d1a8dc8e3f0d1edea16d29f7de018eda769abb56bd30/multidict-5.1.0-cp37-cp37m-manylinux2014_x86_64.whl (142kB)\n",
            "\u001b[K     |████████████████████████████████| 143kB 38.4MB/s \n",
            "\u001b[?25hRequirement already satisfied: MarkupSafe>=0.23 in /usr/local/lib/python3.7/dist-packages (from jinja2->notebook>=4.4.1->widgetsnbextension~=3.5.0->ipywidgets>=7.0.0cloudpickle>=0.2.2->swifter) (1.1.1)\n",
            "Requirement already satisfied: mistune<2,>=0.8.1 in /usr/local/lib/python3.7/dist-packages (from nbconvert->notebook>=4.4.1->widgetsnbextension~=3.5.0->ipywidgets>=7.0.0cloudpickle>=0.2.2->swifter) (0.8.4)\n",
            "Requirement already satisfied: defusedxml in /usr/local/lib/python3.7/dist-packages (from nbconvert->notebook>=4.4.1->widgetsnbextension~=3.5.0->ipywidgets>=7.0.0cloudpickle>=0.2.2->swifter) (0.7.0)\n",
            "Requirement already satisfied: pandocfilters>=1.4.1 in /usr/local/lib/python3.7/dist-packages (from nbconvert->notebook>=4.4.1->widgetsnbextension~=3.5.0->ipywidgets>=7.0.0cloudpickle>=0.2.2->swifter) (1.4.3)\n",
            "Requirement already satisfied: entrypoints>=0.2.2 in /usr/local/lib/python3.7/dist-packages (from nbconvert->notebook>=4.4.1->widgetsnbextension~=3.5.0->ipywidgets>=7.0.0cloudpickle>=0.2.2->swifter) (0.3)\n",
            "Requirement already satisfied: testpath in /usr/local/lib/python3.7/dist-packages (from nbconvert->notebook>=4.4.1->widgetsnbextension~=3.5.0->ipywidgets>=7.0.0cloudpickle>=0.2.2->swifter) (0.4.4)\n",
            "Requirement already satisfied: googleapis-common-protos<2.0dev,>=1.6.0 in /usr/local/lib/python3.7/dist-packages (from google-api-core<2.0.0,>=1.0.0->opencensus->ray<1.2.0,>=1.0.0; extra == \"ray\"->modin[ray]>=0.8.1.1->swifter) (1.53.0)\n",
            "Requirement already satisfied: google-auth<2.0dev,>=1.21.1 in /usr/local/lib/python3.7/dist-packages (from google-api-core<2.0.0,>=1.0.0->opencensus->ray<1.2.0,>=1.0.0; extra == \"ray\"->modin[ray]>=0.8.1.1->swifter) (1.27.1)\n",
            "Requirement already satisfied: cachetools<5.0,>=2.0.0 in /usr/local/lib/python3.7/dist-packages (from google-auth<2.0dev,>=1.21.1->google-api-core<2.0.0,>=1.0.0->opencensus->ray<1.2.0,>=1.0.0; extra == \"ray\"->modin[ray]>=0.8.1.1->swifter) (4.2.1)\n",
            "Requirement already satisfied: pyasn1-modules>=0.2.1 in /usr/local/lib/python3.7/dist-packages (from google-auth<2.0dev,>=1.21.1->google-api-core<2.0.0,>=1.0.0->opencensus->ray<1.2.0,>=1.0.0; extra == \"ray\"->modin[ray]>=0.8.1.1->swifter) (0.2.8)\n",
            "Requirement already satisfied: rsa<5,>=3.1.4; python_version >= \"3.6\" in /usr/local/lib/python3.7/dist-packages (from google-auth<2.0dev,>=1.21.1->google-api-core<2.0.0,>=1.0.0->opencensus->ray<1.2.0,>=1.0.0; extra == \"ray\"->modin[ray]>=0.8.1.1->swifter) (4.7.2)\n",
            "Requirement already satisfied: pyasn1<0.5.0,>=0.4.6 in /usr/local/lib/python3.7/dist-packages (from pyasn1-modules>=0.2.1->google-auth<2.0dev,>=1.21.1->google-api-core<2.0.0,>=1.0.0->opencensus->ray<1.2.0,>=1.0.0; extra == \"ray\"->modin[ray]>=0.8.1.1->swifter) (0.4.8)\n",
            "Building wheels for collected packages: swifter, gpustat\n",
            "  Building wheel for swifter (setup.py) ... \u001b[?25l\u001b[?25hdone\n",
            "  Created wheel for swifter: filename=swifter-1.0.7-cp37-none-any.whl size=13980 sha256=22f0535ddc5b3ec85bd1ead32c092ecbedda83b8b57ca9fcd649618bf63c9848\n",
            "  Stored in directory: /root/.cache/pip/wheels/99/58/39/5b59c5f4d66ce67bf55f0178e0940c964e89e9f60d70376a37\n",
            "  Building wheel for gpustat (setup.py) ... \u001b[?25l\u001b[?25hdone\n",
            "  Created wheel for gpustat: filename=gpustat-0.6.0-cp37-none-any.whl size=12621 sha256=35a9c1eb989d07cc6f433ed1c478cc5edd9b9f48f45530cd99691c6b69464fa2\n",
            "  Stored in directory: /root/.cache/pip/wheels/48/b4/d5/fb5b7f1d040f2ff20687e3bad6867d63155dbde5a7c10f4293\n",
            "Successfully built swifter gpustat\n",
            "\u001b[31mERROR: modin 0.9.0 has requirement pandas==1.2.3, but you'll have pandas 1.1.5 which is incompatible.\u001b[0m\n",
            "Installing collected packages: psutil, pyarrow, async-timeout, hiredis, aioredis, py-spy, blessings, gpustat, colorful, multidict, yarl, aiohttp, aiohttp-cors, opencensus-context, opencensus, colorama, redis, ray, modin, swifter, fsspec, locket, partd\n",
            "  Found existing installation: psutil 5.4.8\n",
            "    Uninstalling psutil-5.4.8:\n",
            "      Successfully uninstalled psutil-5.4.8\n",
            "  Found existing installation: pyarrow 3.0.0\n",
            "    Uninstalling pyarrow-3.0.0:\n",
            "      Successfully uninstalled pyarrow-3.0.0\n",
            "Successfully installed aiohttp-3.7.4.post0 aiohttp-cors-0.7.0 aioredis-1.3.1 async-timeout-3.0.1 blessings-1.7 colorama-0.4.4 colorful-0.5.4 fsspec-0.8.7 gpustat-0.6.0 hiredis-1.1.0 locket-0.2.1 modin-0.9.0 multidict-5.1.0 opencensus-0.7.12 opencensus-context-0.1.2 partd-1.1.0 psutil-5.8.0 py-spy-0.3.4 pyarrow-1.0.0 ray-1.1.0 redis-3.5.3 swifter-1.0.7 yarl-1.6.3\n"
          ],
          "name": "stdout"
        },
        {
          "output_type": "display_data",
          "data": {
            "application/vnd.colab-display-data+json": {
              "pip_warning": {
                "packages": [
                  "psutil",
                  "pyarrow"
                ]
              }
            }
          },
          "metadata": {
            "tags": []
          }
        }
      ]
    },
    {
      "cell_type": "code",
      "metadata": {
        "id": "PghiYhVItcZd"
      },
      "source": [
        "from urllib.error import HTTPError\r\n",
        "from urllib.request import urlopen\r\n",
        "from bs4 import BeautifulSoup\r\n",
        "import os\r\n",
        "import pandas as pd"
      ],
      "execution_count": null,
      "outputs": []
    },
    {
      "cell_type": "markdown",
      "metadata": {
        "id": "BybNKXyJs8WG"
      },
      "source": [
        "# Create archive links"
      ]
    },
    {
      "cell_type": "code",
      "metadata": {
        "id": "WF79zdzrs6Mx"
      },
      "source": [
        "def create_archive_links(year_start, year_end, month_start, month_end, day_start, day_end):\r\n",
        "    archive_links = {}\r\n",
        "    for y in range(year_start, year_end + 1):\r\n",
        "        dates = [str(d).zfill(2) + \"-\" + str(m).zfill(2) + \"-\" +\r\n",
        "                 str(y) for m in range(month_start, month_end + 1) for d in\r\n",
        "                 range(day_start, day_end + 1)]\r\n",
        "        archive_links[y] = [\r\n",
        "            \"https://www.lemonde.fr/archives-du-monde/\" + date + \"/\" for date in dates]\r\n",
        "    return archive_links"
      ],
      "execution_count": null,
      "outputs": []
    },
    {
      "cell_type": "code",
      "metadata": {
        "id": "OsIuDObHtBPj"
      },
      "source": [
        "#create_archive_links(2006,2020,1, 12, 1, 31)\r\n",
        "archive_links = create_archive_links(2006,2006,1, 2, 1, 31)"
      ],
      "execution_count": null,
      "outputs": []
    },
    {
      "cell_type": "markdown",
      "metadata": {
        "id": "njRlf3NUtenK"
      },
      "source": [
        "# Scrap"
      ]
    },
    {
      "cell_type": "code",
      "metadata": {
        "id": "VfNFxGecth7m"
      },
      "source": [
        "def get_articles_links(archive_links):\r\n",
        "  '''Each article is in a <section> having a class named teaser and here \r\n",
        "  I also filter all the non free articles having a span with class icon__premium. \r\n",
        "  All the links containing the word en-direct are also filtered because they are videos. '''\r\n",
        "  links_non_abonne = []\r\n",
        "  for link in archive_links:\r\n",
        "      try:\r\n",
        "          html = urlopen(link)\r\n",
        "      except HTTPError as e:\r\n",
        "          print(\"url not valid\", link)\r\n",
        "      else:\r\n",
        "          soup = BeautifulSoup(html, \"html.parser\")\r\n",
        "          news = soup.find_all(class_=\"teaser\")\r\n",
        "          # condition here : if no span icon__premium (abonnes)\r\n",
        "          for item in news:\r\n",
        "              if not item.find('span', {'class': 'icon__premium'}):\r\n",
        "                  l_article = item.find('a')['href']\r\n",
        "                  # en-direct = video\r\n",
        "                  if 'en-direct' not in l_article:\r\n",
        "                      links_non_abonne.append(l_article)\r\n",
        "  return links_non_abonne"
      ],
      "execution_count": null,
      "outputs": []
    },
    {
      "cell_type": "code",
      "metadata": {
        "id": "d-xe-0AQvWwm"
      },
      "source": [
        "def get_single_page(url):\r\n",
        "    try:\r\n",
        "        html = urlopen(url)\r\n",
        "    except HTTPError as e:\r\n",
        "        print(\"url not valid\", url)\r\n",
        "    else:\r\n",
        "        soup = BeautifulSoup(html, \"html.parser\")\r\n",
        "        try:\r\n",
        "          text_title = soup.find('h1')\r\n",
        "        except:\r\n",
        "          text_title = 'empty' \r\n",
        "        try:\r\n",
        "          text_body = soup.article.find_all([\"p\", \"h2\"], recursive=False)\r\n",
        "        except:\r\n",
        "          text_body = 'empty'\r\n",
        "        try:\r\n",
        "          tag = soup.findAll('li',attrs={'class':'old__nav-content-list-item'})\r\n",
        "        except:\r\n",
        "          tag = 'empty'\r\n",
        "        return [text_title, text_body,tag]"
      ],
      "execution_count": null,
      "outputs": []
    },
    {
      "cell_type": "code",
      "metadata": {
        "id": "rLEMt9Bq0aFc"
      },
      "source": [
        "df = pd.DataFrame(columns=['Year', 'Html'])"
      ],
      "execution_count": null,
      "outputs": []
    },
    {
      "cell_type": "code",
      "metadata": {
        "colab": {
          "base_uri": "https://localhost:8080/"
        },
        "id": "JKMp-7Iqt2iM",
        "outputId": "6158a2c5-36d5-4bb9-905e-596c6a35d176"
      },
      "source": [
        "for year,links in archive_links.items():\r\n",
        "    print(\"processing: \",year)\r\n",
        "    article_links_list = get_articles_links(links)\r\n",
        "    temp = pd.DataFrame({'Year': [year]*len(article_links_list), 'Html': article_links_list})\r\n",
        "    df = df.append(temp)"
      ],
      "execution_count": null,
      "outputs": [
        {
          "output_type": "stream",
          "text": [
            "processing:  2006\n"
          ],
          "name": "stdout"
        }
      ]
    },
    {
      "cell_type": "code",
      "metadata": {
        "colab": {
          "base_uri": "https://localhost:8080/",
          "height": 66,
          "referenced_widgets": [
            "fa0aa2ae8842417ba280105eccb66721",
            "78f8513b55bc4c59820e8577d52eded0",
            "0ccd9728579043149d7341010d8ca6ed",
            "089af218c70542d481b46e0fc81a2417",
            "ea30cfd68ec54e17b081a01f2126adf5",
            "752bb6be7ac44076998bacd2acea5449",
            "d68b3ae5252e4c62a1d728b0dc4e689b",
            "ffbf4730bb10462f86a090ba6e3cb0ff"
          ]
        },
        "id": "z7k4B9RTyxZH",
        "outputId": "9000fbf8-47bc-4222-84b2-912854563453"
      },
      "source": [
        "import swifter\r\n",
        "df['out'] = df['Html'].swifter.apply(get_single_page)"
      ],
      "execution_count": null,
      "outputs": [
        {
          "output_type": "display_data",
          "data": {
            "application/vnd.jupyter.widget-view+json": {
              "model_id": "fa0aa2ae8842417ba280105eccb66721",
              "version_minor": 0,
              "version_major": 2
            },
            "text/plain": [
              "HBox(children=(FloatProgress(value=0.0, description='Pandas Apply', max=2270.0, style=ProgressStyle(descriptio…"
            ]
          },
          "metadata": {
            "tags": []
          }
        },
        {
          "output_type": "stream",
          "text": [
            "\n"
          ],
          "name": "stdout"
        }
      ]
    },
    {
      "cell_type": "code",
      "metadata": {
        "colab": {
          "base_uri": "https://localhost:8080/"
        },
        "id": "7XE5IZyQ9o8I",
        "outputId": "439c436b-059f-4078-b787-5210a5690949"
      },
      "source": [
        "html = urlopen('https://www.lemonde.fr/ameriques/article/2006/01/01/les-zapatistes-lancent-une-autre-campagne-a-six-mois-de-la-presidentielle-mexicaine_726244_3222.html')\r\n",
        "soup = BeautifulSoup(html, \"html.parser\")\r\n",
        "soup.findAll('li',attrs={'class':'old__nav-content-list-item'})"
      ],
      "execution_count": null,
      "outputs": [
        {
          "output_type": "execute_result",
          "data": {
            "text/plain": [
              "[<li class=\"old__nav-content-list-item\"> <a href=\"/international/\">International</a> </li>,\n",
              " <li class=\"old__nav-content-list-item\"> <a href=\"/politique/\">Politique</a> </li>,\n",
              " <li class=\"old__nav-content-list-item\"> <a href=\"/societe/\">Société</a> </li>,\n",
              " <li class=\"old__nav-content-list-item\"> <a href=\"/les-decodeurs/\">Les Décodeurs</a> </li>,\n",
              " <li class=\"old__nav-content-list-item\"> <a href=\"/sport/\">Sport</a> </li>,\n",
              " <li class=\"old__nav-content-list-item\"> <a href=\"/planete/\">Planète</a> </li>,\n",
              " <li class=\"old__nav-content-list-item\"> <a href=\"/sciences/\">Sciences</a> </li>,\n",
              " <li class=\"old__nav-content-list-item\"> <a href=\"/campus/\">M Campus</a> </li>,\n",
              " <li class=\"old__nav-content-list-item\"> <a href=\"/afrique/\">Le Monde Afrique</a> </li>,\n",
              " <li class=\"old__nav-content-list-item\"> <a href=\"/pixels/\">Pixels</a> </li>,\n",
              " <li class=\"old__nav-content-list-item\"> <a href=\"/sante/\">Santé</a> </li>,\n",
              " <li class=\"old__nav-content-list-item\"> <a href=\"/big-browser/\">Big Browser</a> </li>,\n",
              " <li class=\"old__nav-content-list-item\"> <a href=\"/disparitions/\">Disparitions</a> </li>,\n",
              " <li class=\"old__nav-content-list-item\"> <a href=\"/podcasts/\">Podcasts</a> </li>,\n",
              " <li class=\"old__nav-content-list-item\"> <a href=\"/le-monde-et-vous/\">Le Monde &amp; Vous</a> </li>]"
            ]
          },
          "metadata": {
            "tags": []
          },
          "execution_count": 109
        }
      ]
    },
    {
      "cell_type": "code",
      "metadata": {
        "id": "7usIbbgP_tpX"
      },
      "source": [
        "def keep(x,nbr):\r\n",
        "  if len(x)>nbr:\r\n",
        "    retour=1\r\n",
        "  else:\r\n",
        "    retour=0\r\n",
        "  return retour"
      ],
      "execution_count": null,
      "outputs": []
    },
    {
      "cell_type": "code",
      "metadata": {
        "id": "w7Qj568_ApIv"
      },
      "source": [
        "df['Titre_OK'] = df['Titre'].apply(lambda x: keep(x,10))\r\n",
        "df['Body_OK'] = df['Body'].apply(lambda x: keep(x,10))"
      ],
      "execution_count": null,
      "outputs": []
    },
    {
      "cell_type": "code",
      "metadata": {
        "colab": {
          "base_uri": "https://localhost:8080/"
        },
        "id": "d5XZuVBXDEMt",
        "outputId": "dc0395ae-b69d-41b7-c04d-5b455727ce29"
      },
      "source": [
        "df['Body_OK'].sum()/len(df['Body'])*100"
      ],
      "execution_count": null,
      "outputs": [
        {
          "output_type": "execute_result",
          "data": {
            "text/plain": [
              "91.95068890500363"
            ]
          },
          "metadata": {
            "tags": []
          },
          "execution_count": 171
        }
      ]
    }
  ]
}