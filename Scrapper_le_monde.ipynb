{
 "cells": [
  {
   "cell_type": "code",
   "execution_count": 1,
   "metadata": {
    "id": "PghiYhVItcZd"
   },
   "outputs": [],
   "source": [
    "from urllib.error import HTTPError\n",
    "from urllib.request import urlopen\n",
    "from bs4 import BeautifulSoup\n",
    "import os\n",
    "import pandas as pd"
   ]
  },
  {
   "cell_type": "markdown",
   "metadata": {
    "id": "BybNKXyJs8WG"
   },
   "source": [
    "# Create archive links"
   ]
  },
  {
   "cell_type": "code",
   "execution_count": 2,
   "metadata": {
    "id": "WF79zdzrs6Mx"
   },
   "outputs": [],
   "source": [
    "def create_archive_links(year_start, year_end, month_start, month_end, day_start, day_end):\n",
    "    archive_links = {}\n",
    "    for y in range(year_start, year_end + 1):\n",
    "        dates = [str(d).zfill(2) + \"-\" + str(m).zfill(2) + \"-\" +\n",
    "                 str(y) for m in range(month_start, month_end + 1) for d in\n",
    "                 range(day_start, day_end + 1)]\n",
    "        archive_links[y] = [\n",
    "            \"https://www.lemonde.fr/archives-du-monde/\" + date + \"/\" for date in dates]\n",
    "    return archive_links"
   ]
  },
  {
   "cell_type": "code",
   "execution_count": 3,
   "metadata": {
    "id": "OsIuDObHtBPj"
   },
   "outputs": [],
   "source": [
    "#create_archive_links(2006,2020,1, 12, 1, 31)\n",
    "archive_links = create_archive_links(2000,2020,1, 12, 1, 31)"
   ]
  },
  {
   "cell_type": "markdown",
   "metadata": {
    "id": "njRlf3NUtenK"
   },
   "source": [
    "# Scrap"
   ]
  },
  {
   "cell_type": "code",
   "execution_count": null,
   "metadata": {
    "id": "VfNFxGecth7m"
   },
   "outputs": [],
   "source": [
    "def get_articles_links(archive_links):\n",
    "  '''Each article is in a <section> having a class named teaser and here \n",
    "  I also filter all the non free articles having a span with class icon__premium. \n",
    "  All the links containing the word en-direct are also filtered because they are videos. '''\n",
    "  links_non_abonne = []\n",
    "  for link in archive_links:\n",
    "      try:\n",
    "          html = urlopen(link)\n",
    "      except HTTPError as e:\n",
    "          print(\"url not valid\", link)\n",
    "      else:\n",
    "          soup = BeautifulSoup(html, \"html.parser\")\n",
    "          news = soup.find_all(class_=\"teaser\")\n",
    "          # condition here : if no span icon__premium (abonnes)\n",
    "          for item in news:\n",
    "              if not item.find('span', {'class': 'icon__premium'}):\n",
    "                  l_article = item.find('a')['href']\n",
    "                  # en-direct = video\n",
    "                  if 'en-direct' not in l_article:\n",
    "                      links_non_abonne.append(l_article)\n",
    "  return links_non_abonne"
   ]
  },
  {
   "cell_type": "code",
   "execution_count": null,
   "metadata": {
    "id": "d-xe-0AQvWwm"
   },
   "outputs": [],
   "source": [
    "def get_single_page(url):\n",
    "    try:\n",
    "        html = urlopen(url)\n",
    "    except HTTPError as e:\n",
    "        print(\"url not valid\", url)\n",
    "    else:\n",
    "        soup = BeautifulSoup(html, \"html.parser\")\n",
    "        try:\n",
    "          text_title = soup.find('h1')\n",
    "        except:\n",
    "          text_title = 'empty' \n",
    "        try:\n",
    "          text_body = soup.article.find_all([\"p\", \"h2\"], recursive=False)\n",
    "        except:\n",
    "          text_body = 'empty'\n",
    "        try:\n",
    "          tag = soup.findAll('li',attrs={'class':'old__nav-content-list-item'})\n",
    "        except:\n",
    "          tag = 'empty'\n",
    "        return [text_title, text_body,tag]"
   ]
  },
  {
   "cell_type": "code",
   "execution_count": null,
   "metadata": {
    "id": "rLEMt9Bq0aFc"
   },
   "outputs": [],
   "source": [
    "df = pd.DataFrame(columns=['Year', 'Html'])"
   ]
  },
  {
   "cell_type": "code",
   "execution_count": null,
   "metadata": {
    "colab": {
     "base_uri": "https://localhost:8080/"
    },
    "id": "JKMp-7Iqt2iM",
    "outputId": "6158a2c5-36d5-4bb9-905e-596c6a35d176"
   },
   "outputs": [
    {
     "name": "stdout",
     "output_type": "stream",
     "text": [
      "processing:  2000\n",
      "processing:  2001\n",
      "processing:  2002\n",
      "processing:  2003\n",
      "processing:  2004\n",
      "processing:  2005\n",
      "processing:  2006\n",
      "processing:  2007\n",
      "processing:  2008\n",
      "processing:  2009\n",
      "processing:  2010\n",
      "processing:  2011\n",
      "processing:  2012\n",
      "processing:  2013\n"
     ]
    }
   ],
   "source": [
    "for year,links in archive_links.items():\n",
    "    print(\"processing: \",year)\n",
    "    article_links_list = get_articles_links(links)\n",
    "    temp = pd.DataFrame({'Year': [year]*len(article_links_list), 'Html': article_links_list})\n",
    "    df = df.append(temp)"
   ]
  },
  {
   "cell_type": "code",
   "execution_count": null,
   "metadata": {},
   "outputs": [],
   "source": [
    "df.head()"
   ]
  },
  {
   "cell_type": "code",
   "execution_count": null,
   "metadata": {
    "colab": {
     "base_uri": "https://localhost:8080/",
     "height": 66,
     "referenced_widgets": [
      "fa0aa2ae8842417ba280105eccb66721",
      "78f8513b55bc4c59820e8577d52eded0",
      "0ccd9728579043149d7341010d8ca6ed",
      "089af218c70542d481b46e0fc81a2417",
      "ea30cfd68ec54e17b081a01f2126adf5",
      "752bb6be7ac44076998bacd2acea5449",
      "d68b3ae5252e4c62a1d728b0dc4e689b",
      "ffbf4730bb10462f86a090ba6e3cb0ff"
     ]
    },
    "id": "z7k4B9RTyxZH",
    "outputId": "9000fbf8-47bc-4222-84b2-912854563453"
   },
   "outputs": [],
   "source": [
    "import swifter\n",
    "df['out'] = df['Html'].swifter.apply(get_single_page)"
   ]
  },
  {
   "cell_type": "code",
   "execution_count": null,
   "metadata": {},
   "outputs": [],
   "source": [
    "df.to_csv('out.csv',index=False)"
   ]
  },
  {
   "cell_type": "code",
   "execution_count": null,
   "metadata": {
    "colab": {
     "base_uri": "https://localhost:8080/"
    },
    "id": "7XE5IZyQ9o8I",
    "outputId": "439c436b-059f-4078-b787-5210a5690949"
   },
   "outputs": [],
   "source": [
    "html = urlopen('https://www.lemonde.fr/ameriques/article/2006/01/01/les-zapatistes-lancent-une-autre-campagne-a-six-mois-de-la-presidentielle-mexicaine_726244_3222.html')\n",
    "soup = BeautifulSoup(html, \"html.parser\")\n",
    "soup.findAll('li',attrs={'class':'old__nav-content-list-item'})"
   ]
  },
  {
   "cell_type": "code",
   "execution_count": null,
   "metadata": {
    "id": "7usIbbgP_tpX"
   },
   "outputs": [],
   "source": [
    "def keep(x,nbr):\n",
    "  if len(x)>nbr:\n",
    "    retour=1\n",
    "  else:\n",
    "    retour=0\n",
    "  return retour"
   ]
  },
  {
   "cell_type": "code",
   "execution_count": null,
   "metadata": {
    "id": "w7Qj568_ApIv"
   },
   "outputs": [],
   "source": [
    "df['Titre_OK'] = df['Titre'].apply(lambda x: keep(x,10))\n",
    "df['Body_OK'] = df['Body'].apply(lambda x: keep(x,10))"
   ]
  },
  {
   "cell_type": "code",
   "execution_count": null,
   "metadata": {
    "colab": {
     "base_uri": "https://localhost:8080/"
    },
    "id": "d5XZuVBXDEMt",
    "outputId": "dc0395ae-b69d-41b7-c04d-5b455727ce29"
   },
   "outputs": [],
   "source": [
    "df['Body_OK'].sum()/len(df['Body'])*100"
   ]
  }
 ],
 "metadata": {
  "colab": {
   "collapsed_sections": [],
   "name": "Scrapper_le_monde.ipynb",
   "provenance": []
  },
  "kernelspec": {
   "display_name": "Python 3",
   "language": "python",
   "name": "python3"
  },
  "language_info": {
   "codemirror_mode": {
    "name": "ipython",
    "version": 3
   },
   "file_extension": ".py",
   "mimetype": "text/x-python",
   "name": "python",
   "nbconvert_exporter": "python",
   "pygments_lexer": "ipython3",
   "version": "3.7.1"
  },
  "widgets": {
   "application/vnd.jupyter.widget-state+json": {
    "089af218c70542d481b46e0fc81a2417": {
     "model_module": "@jupyter-widgets/controls",
     "model_name": "HTMLModel",
     "state": {
      "_dom_classes": [],
      "_model_module": "@jupyter-widgets/controls",
      "_model_module_version": "1.5.0",
      "_model_name": "HTMLModel",
      "_view_count": null,
      "_view_module": "@jupyter-widgets/controls",
      "_view_module_version": "1.5.0",
      "_view_name": "HTMLView",
      "description": "",
      "description_tooltip": null,
      "layout": "IPY_MODEL_ffbf4730bb10462f86a090ba6e3cb0ff",
      "placeholder": "​",
      "style": "IPY_MODEL_d68b3ae5252e4c62a1d728b0dc4e689b",
      "value": " 2270/2270 [08:49&lt;00:00,  4.29it/s]"
     }
    },
    "0ccd9728579043149d7341010d8ca6ed": {
     "model_module": "@jupyter-widgets/controls",
     "model_name": "FloatProgressModel",
     "state": {
      "_dom_classes": [],
      "_model_module": "@jupyter-widgets/controls",
      "_model_module_version": "1.5.0",
      "_model_name": "FloatProgressModel",
      "_view_count": null,
      "_view_module": "@jupyter-widgets/controls",
      "_view_module_version": "1.5.0",
      "_view_name": "ProgressView",
      "bar_style": "success",
      "description": "Pandas Apply: 100%",
      "description_tooltip": null,
      "layout": "IPY_MODEL_752bb6be7ac44076998bacd2acea5449",
      "max": 2270,
      "min": 0,
      "orientation": "horizontal",
      "style": "IPY_MODEL_ea30cfd68ec54e17b081a01f2126adf5",
      "value": 2270
     }
    },
    "752bb6be7ac44076998bacd2acea5449": {
     "model_module": "@jupyter-widgets/base",
     "model_name": "LayoutModel",
     "state": {
      "_model_module": "@jupyter-widgets/base",
      "_model_module_version": "1.2.0",
      "_model_name": "LayoutModel",
      "_view_count": null,
      "_view_module": "@jupyter-widgets/base",
      "_view_module_version": "1.2.0",
      "_view_name": "LayoutView",
      "align_content": null,
      "align_items": null,
      "align_self": null,
      "border": null,
      "bottom": null,
      "display": null,
      "flex": null,
      "flex_flow": null,
      "grid_area": null,
      "grid_auto_columns": null,
      "grid_auto_flow": null,
      "grid_auto_rows": null,
      "grid_column": null,
      "grid_gap": null,
      "grid_row": null,
      "grid_template_areas": null,
      "grid_template_columns": null,
      "grid_template_rows": null,
      "height": null,
      "justify_content": null,
      "justify_items": null,
      "left": null,
      "margin": null,
      "max_height": null,
      "max_width": null,
      "min_height": null,
      "min_width": null,
      "object_fit": null,
      "object_position": null,
      "order": null,
      "overflow": null,
      "overflow_x": null,
      "overflow_y": null,
      "padding": null,
      "right": null,
      "top": null,
      "visibility": null,
      "width": null
     }
    },
    "78f8513b55bc4c59820e8577d52eded0": {
     "model_module": "@jupyter-widgets/base",
     "model_name": "LayoutModel",
     "state": {
      "_model_module": "@jupyter-widgets/base",
      "_model_module_version": "1.2.0",
      "_model_name": "LayoutModel",
      "_view_count": null,
      "_view_module": "@jupyter-widgets/base",
      "_view_module_version": "1.2.0",
      "_view_name": "LayoutView",
      "align_content": null,
      "align_items": null,
      "align_self": null,
      "border": null,
      "bottom": null,
      "display": null,
      "flex": null,
      "flex_flow": null,
      "grid_area": null,
      "grid_auto_columns": null,
      "grid_auto_flow": null,
      "grid_auto_rows": null,
      "grid_column": null,
      "grid_gap": null,
      "grid_row": null,
      "grid_template_areas": null,
      "grid_template_columns": null,
      "grid_template_rows": null,
      "height": null,
      "justify_content": null,
      "justify_items": null,
      "left": null,
      "margin": null,
      "max_height": null,
      "max_width": null,
      "min_height": null,
      "min_width": null,
      "object_fit": null,
      "object_position": null,
      "order": null,
      "overflow": null,
      "overflow_x": null,
      "overflow_y": null,
      "padding": null,
      "right": null,
      "top": null,
      "visibility": null,
      "width": null
     }
    },
    "d68b3ae5252e4c62a1d728b0dc4e689b": {
     "model_module": "@jupyter-widgets/controls",
     "model_name": "DescriptionStyleModel",
     "state": {
      "_model_module": "@jupyter-widgets/controls",
      "_model_module_version": "1.5.0",
      "_model_name": "DescriptionStyleModel",
      "_view_count": null,
      "_view_module": "@jupyter-widgets/base",
      "_view_module_version": "1.2.0",
      "_view_name": "StyleView",
      "description_width": ""
     }
    },
    "ea30cfd68ec54e17b081a01f2126adf5": {
     "model_module": "@jupyter-widgets/controls",
     "model_name": "ProgressStyleModel",
     "state": {
      "_model_module": "@jupyter-widgets/controls",
      "_model_module_version": "1.5.0",
      "_model_name": "ProgressStyleModel",
      "_view_count": null,
      "_view_module": "@jupyter-widgets/base",
      "_view_module_version": "1.2.0",
      "_view_name": "StyleView",
      "bar_color": null,
      "description_width": "initial"
     }
    },
    "fa0aa2ae8842417ba280105eccb66721": {
     "model_module": "@jupyter-widgets/controls",
     "model_name": "HBoxModel",
     "state": {
      "_dom_classes": [],
      "_model_module": "@jupyter-widgets/controls",
      "_model_module_version": "1.5.0",
      "_model_name": "HBoxModel",
      "_view_count": null,
      "_view_module": "@jupyter-widgets/controls",
      "_view_module_version": "1.5.0",
      "_view_name": "HBoxView",
      "box_style": "",
      "children": [
       "IPY_MODEL_0ccd9728579043149d7341010d8ca6ed",
       "IPY_MODEL_089af218c70542d481b46e0fc81a2417"
      ],
      "layout": "IPY_MODEL_78f8513b55bc4c59820e8577d52eded0"
     }
    },
    "ffbf4730bb10462f86a090ba6e3cb0ff": {
     "model_module": "@jupyter-widgets/base",
     "model_name": "LayoutModel",
     "state": {
      "_model_module": "@jupyter-widgets/base",
      "_model_module_version": "1.2.0",
      "_model_name": "LayoutModel",
      "_view_count": null,
      "_view_module": "@jupyter-widgets/base",
      "_view_module_version": "1.2.0",
      "_view_name": "LayoutView",
      "align_content": null,
      "align_items": null,
      "align_self": null,
      "border": null,
      "bottom": null,
      "display": null,
      "flex": null,
      "flex_flow": null,
      "grid_area": null,
      "grid_auto_columns": null,
      "grid_auto_flow": null,
      "grid_auto_rows": null,
      "grid_column": null,
      "grid_gap": null,
      "grid_row": null,
      "grid_template_areas": null,
      "grid_template_columns": null,
      "grid_template_rows": null,
      "height": null,
      "justify_content": null,
      "justify_items": null,
      "left": null,
      "margin": null,
      "max_height": null,
      "max_width": null,
      "min_height": null,
      "min_width": null,
      "object_fit": null,
      "object_position": null,
      "order": null,
      "overflow": null,
      "overflow_x": null,
      "overflow_y": null,
      "padding": null,
      "right": null,
      "top": null,
      "visibility": null,
      "width": null
     }
    }
   }
  }
 },
 "nbformat": 4,
 "nbformat_minor": 1
}
