{
 "cells": [
  {
   "cell_type": "code",
   "execution_count": 1,
   "metadata": {
    "colab": {
     "base_uri": "https://localhost:8080/",
     "height": 1000
    },
    "id": "rpp-bf6My8Bx",
    "outputId": "66901582-d998-4f13-ac97-9210a0ff5d81"
   },
   "outputs": [
    {
     "name": "stdout",
     "output_type": "stream",
     "text": [
      "Requirement already satisfied: swifter in c:\\users\\maxim\\appdata\\roaming\\python\\python37\\site-packages (1.0.7)\n",
      "Requirement already satisfied: psutil>=5.6.6 in c:\\users\\maxim\\appdata\\roaming\\python\\python37\\site-packages (from swifter) (5.8.0)\n",
      "Requirement already satisfied: dask[dataframe]>=2.10.0 in c:\\users\\maxim\\appdata\\roaming\\python\\python37\\site-packages (from swifter) (2021.3.0)\n",
      "Requirement already satisfied: pandas>=1.0.0 in c:\\users\\maxim\\appdata\\roaming\\python\\python37\\site-packages (from swifter) (1.2.3)\n",
      "Requirement already satisfied: ipywidgets>=7.0.0cloudpickle>=0.2.2 in c:\\programdata\\anaconda3\\lib\\site-packages (from swifter) (7.4.2)\n",
      "Requirement already satisfied: tqdm>=4.33.0 in c:\\users\\maxim\\appdata\\roaming\\python\\python37\\site-packages (from swifter) (4.56.0)\n",
      "Requirement already satisfied: parso>0.4.0 in c:\\users\\maxim\\appdata\\roaming\\python\\python37\\site-packages (from swifter) (0.8.1)\n",
      "Requirement already satisfied: bleach>=3.1.1 in c:\\users\\maxim\\appdata\\roaming\\python\\python37\\site-packages (from swifter) (3.3.0)\n",
      "Requirement already satisfied: modin[ray]>=0.8.1.1 in c:\\users\\maxim\\appdata\\roaming\\python\\python37\\site-packages (from swifter) (0.9.0)\n",
      "Requirement already satisfied: webencodings in c:\\programdata\\anaconda3\\lib\\site-packages (from bleach>=3.1.1->swifter) (0.5.1)\n",
      "Requirement already satisfied: packaging in c:\\programdata\\anaconda3\\lib\\site-packages (from bleach>=3.1.1->swifter) (18.0)\n",
      "Requirement already satisfied: six>=1.9.0 in c:\\users\\maxim\\appdata\\roaming\\python\\python37\\site-packages (from bleach>=3.1.1->swifter) (1.15.0)\n",
      "Requirement already satisfied: pyyaml in c:\\programdata\\anaconda3\\lib\\site-packages (from dask[dataframe]>=2.10.0->swifter) (5.1.2)\n",
      "Requirement already satisfied: partd>=0.3.10 in c:\\users\\maxim\\appdata\\roaming\\python\\python37\\site-packages (from dask[dataframe]>=2.10.0->swifter) (1.1.0)\n",
      "Requirement already satisfied: fsspec>=0.6.0 in c:\\users\\maxim\\appdata\\roaming\\python\\python37\\site-packages (from dask[dataframe]>=2.10.0->swifter) (0.8.7)\n",
      "Requirement already satisfied: toolz>=0.8.2 in c:\\programdata\\anaconda3\\lib\\site-packages (from dask[dataframe]>=2.10.0->swifter) (0.9.0)\n",
      "Requirement already satisfied: numpy>=1.15.1 in c:\\users\\maxim\\appdata\\roaming\\python\\python37\\site-packages (from dask[dataframe]>=2.10.0->swifter) (1.19.5)\n",
      "Requirement already satisfied: importlib-metadata in c:\\users\\maxim\\appdata\\roaming\\python\\python37\\site-packages (from fsspec>=0.6.0->dask[dataframe]>=2.10.0->swifter) (3.4.0)\n",
      "Requirement already satisfied: widgetsnbextension~=3.4.0 in c:\\programdata\\anaconda3\\lib\\site-packages (from ipywidgets>=7.0.0cloudpickle>=0.2.2->swifter) (3.4.2)\n",
      "Requirement already satisfied: traitlets>=4.3.1 in c:\\programdata\\anaconda3\\lib\\site-packages (from ipywidgets>=7.0.0cloudpickle>=0.2.2->swifter) (4.3.2)\n",
      "Requirement already satisfied: ipykernel>=4.5.1 in c:\\programdata\\anaconda3\\lib\\site-packages (from ipywidgets>=7.0.0cloudpickle>=0.2.2->swifter) (5.1.0)\n",
      "Requirement already satisfied: ipython>=4.0.0 in c:\\programdata\\anaconda3\\lib\\site-packages (from ipywidgets>=7.0.0cloudpickle>=0.2.2->swifter) (7.2.0)\n",
      "Requirement already satisfied: nbformat>=4.2.0 in c:\\programdata\\anaconda3\\lib\\site-packages (from ipywidgets>=7.0.0cloudpickle>=0.2.2->swifter) (4.4.0)\n",
      "Requirement already satisfied: tornado>=4.2 in c:\\users\\maxim\\appdata\\roaming\\python\\python37\\site-packages (from ipykernel>=4.5.1->ipywidgets>=7.0.0cloudpickle>=0.2.2->swifter) (6.1)\n",
      "Requirement already satisfied: jupyter-client in c:\\users\\maxim\\appdata\\roaming\\python\\python37\\site-packages (from ipykernel>=4.5.1->ipywidgets>=7.0.0cloudpickle>=0.2.2->swifter) (6.1.11)\n",
      "Requirement already satisfied: backcall in c:\\programdata\\anaconda3\\lib\\site-packages (from ipython>=4.0.0->ipywidgets>=7.0.0cloudpickle>=0.2.2->swifter) (0.1.0)\n",
      "Requirement already satisfied: prompt-toolkit<2.1.0,>=2.0.0 in c:\\programdata\\anaconda3\\lib\\site-packages (from ipython>=4.0.0->ipywidgets>=7.0.0cloudpickle>=0.2.2->swifter) (2.0.7)\n",
      "Requirement already satisfied: colorama in c:\\programdata\\anaconda3\\lib\\site-packages (from ipython>=4.0.0->ipywidgets>=7.0.0cloudpickle>=0.2.2->swifter) (0.4.1)\n",
      "Requirement already satisfied: setuptools>=18.5 in c:\\users\\maxim\\appdata\\roaming\\python\\python37\\site-packages (from ipython>=4.0.0->ipywidgets>=7.0.0cloudpickle>=0.2.2->swifter) (51.1.2)\n",
      "Requirement already satisfied: decorator in c:\\programdata\\anaconda3\\lib\\site-packages (from ipython>=4.0.0->ipywidgets>=7.0.0cloudpickle>=0.2.2->swifter) (4.3.0)\n",
      "Requirement already satisfied: jedi>=0.10 in c:\\programdata\\anaconda3\\lib\\site-packages (from ipython>=4.0.0->ipywidgets>=7.0.0cloudpickle>=0.2.2->swifter) (0.13.2)\n",
      "Requirement already satisfied: pickleshare in c:\\programdata\\anaconda3\\lib\\site-packages (from ipython>=4.0.0->ipywidgets>=7.0.0cloudpickle>=0.2.2->swifter) (0.7.5)\n",
      "Requirement already satisfied: pygments in c:\\programdata\\anaconda3\\lib\\site-packages (from ipython>=4.0.0->ipywidgets>=7.0.0cloudpickle>=0.2.2->swifter) (2.3.1)\n",
      "Requirement already satisfied: ray<1.2.0,>=1.0.0 in c:\\users\\maxim\\appdata\\roaming\\python\\python37\\site-packages (from modin[ray]>=0.8.1.1->swifter) (1.1.0)\n",
      "Requirement already satisfied: pyarrow==1.0 in c:\\users\\maxim\\appdata\\roaming\\python\\python37\\site-packages (from modin[ray]>=0.8.1.1->swifter) (1.0.0)\n",
      "Requirement already satisfied: pytz>=2017.3 in c:\\programdata\\anaconda3\\lib\\site-packages (from pandas>=1.0.0->swifter) (2018.7)\n",
      "Requirement already satisfied: python-dateutil>=2.7.3 in c:\\programdata\\anaconda3\\lib\\site-packages (from pandas>=1.0.0->swifter) (2.7.5)\n",
      "Requirement already satisfied: jsonschema!=2.5.0,>=2.4 in c:\\programdata\\anaconda3\\lib\\site-packages (from nbformat>=4.2.0->ipywidgets>=7.0.0cloudpickle>=0.2.2->swifter) (2.6.0)\n",
      "Requirement already satisfied: ipython-genutils in c:\\programdata\\anaconda3\\lib\\site-packages (from nbformat>=4.2.0->ipywidgets>=7.0.0cloudpickle>=0.2.2->swifter) (0.2.0)\n",
      "Requirement already satisfied: jupyter-core in c:\\users\\maxim\\appdata\\roaming\\python\\python37\\site-packages (from nbformat>=4.2.0->ipywidgets>=7.0.0cloudpickle>=0.2.2->swifter) (4.7.1)\n",
      "Requirement already satisfied: locket in c:\\programdata\\anaconda3\\lib\\site-packages (from partd>=0.3.10->dask[dataframe]>=2.10.0->swifter) (0.2.0)\n",
      "Requirement already satisfied: wcwidth in c:\\programdata\\anaconda3\\lib\\site-packages (from prompt-toolkit<2.1.0,>=2.0.0->ipython>=4.0.0->ipywidgets>=7.0.0cloudpickle>=0.2.2->swifter) (0.1.7)\n",
      "Requirement already satisfied: protobuf>=3.8.0 in c:\\users\\maxim\\appdata\\roaming\\python\\python37\\site-packages (from ray<1.2.0,>=1.0.0->modin[ray]>=0.8.1.1->swifter) (3.14.0)\n",
      "Requirement already satisfied: aiohttp in c:\\users\\maxim\\appdata\\roaming\\python\\python37\\site-packages (from ray<1.2.0,>=1.0.0->modin[ray]>=0.8.1.1->swifter) (3.7.4.post0)\n",
      "Requirement already satisfied: aioredis in c:\\users\\maxim\\appdata\\roaming\\python\\python37\\site-packages (from ray<1.2.0,>=1.0.0->modin[ray]>=0.8.1.1->swifter) (1.3.1)\n",
      "Requirement already satisfied: requests in c:\\programdata\\anaconda3\\lib\\site-packages (from ray<1.2.0,>=1.0.0->modin[ray]>=0.8.1.1->swifter) (2.21.0)\n",
      "Requirement already satisfied: aiohttp-cors in c:\\users\\maxim\\appdata\\roaming\\python\\python37\\site-packages (from ray<1.2.0,>=1.0.0->modin[ray]>=0.8.1.1->swifter) (0.7.0)\n",
      "Requirement already satisfied: py-spy>=0.2.0 in c:\\users\\maxim\\appdata\\roaming\\python\\python37\\site-packages (from ray<1.2.0,>=1.0.0->modin[ray]>=0.8.1.1->swifter) (0.3.4)\n",
      "Requirement already satisfied: prometheus-client>=0.7.1 in c:\\users\\maxim\\appdata\\roaming\\python\\python37\\site-packages (from ray<1.2.0,>=1.0.0->modin[ray]>=0.8.1.1->swifter) (0.9.0)\n",
      "Requirement already satisfied: click>=7.0 in c:\\programdata\\anaconda3\\lib\\site-packages (from ray<1.2.0,>=1.0.0->modin[ray]>=0.8.1.1->swifter) (7.0)\n",
      "Requirement already satisfied: filelock in c:\\programdata\\anaconda3\\lib\\site-packages (from ray<1.2.0,>=1.0.0->modin[ray]>=0.8.1.1->swifter) (3.0.10)\n",
      "Requirement already satisfied: colorful in c:\\users\\maxim\\appdata\\roaming\\python\\python37\\site-packages (from ray<1.2.0,>=1.0.0->modin[ray]>=0.8.1.1->swifter) (0.5.4)\n",
      "Requirement already satisfied: redis>=3.5.0 in c:\\users\\maxim\\appdata\\roaming\\python\\python37\\site-packages (from ray<1.2.0,>=1.0.0->modin[ray]>=0.8.1.1->swifter) (3.5.3)\n",
      "Requirement already satisfied: grpcio>=1.28.1 in c:\\users\\maxim\\appdata\\roaming\\python\\python37\\site-packages (from ray<1.2.0,>=1.0.0->modin[ray]>=0.8.1.1->swifter) (1.32.0)\n",
      "Requirement already satisfied: gpustat in c:\\users\\maxim\\appdata\\roaming\\python\\python37\\site-packages (from ray<1.2.0,>=1.0.0->modin[ray]>=0.8.1.1->swifter) (0.6.0)\n",
      "Requirement already satisfied: opencensus in c:\\users\\maxim\\appdata\\roaming\\python\\python37\\site-packages (from ray<1.2.0,>=1.0.0->modin[ray]>=0.8.1.1->swifter) (0.7.12)\n",
      "Requirement already satisfied: msgpack<2.0.0,>=1.0.0 in c:\\users\\maxim\\appdata\\roaming\\python\\python37\\site-packages (from ray<1.2.0,>=1.0.0->modin[ray]>=0.8.1.1->swifter) (1.0.2)\n",
      "Requirement already satisfied: notebook>=4.4.1 in c:\\users\\maxim\\appdata\\roaming\\python\\python37\\site-packages (from widgetsnbextension~=3.4.0->ipywidgets>=7.0.0cloudpickle>=0.2.2->swifter) (6.2.0)\n",
      "Requirement already satisfied: nbconvert in c:\\users\\maxim\\appdata\\roaming\\python\\python37\\site-packages (from notebook>=4.4.1->widgetsnbextension~=3.4.0->ipywidgets>=7.0.0cloudpickle>=0.2.2->swifter) (5.4.1)\n",
      "Requirement already satisfied: pyzmq>=17 in c:\\programdata\\anaconda3\\lib\\site-packages (from notebook>=4.4.1->widgetsnbextension~=3.4.0->ipywidgets>=7.0.0cloudpickle>=0.2.2->swifter) (17.1.2)\n",
      "Requirement already satisfied: terminado>=0.8.3 in c:\\users\\maxim\\appdata\\roaming\\python\\python37\\site-packages (from notebook>=4.4.1->widgetsnbextension~=3.4.0->ipywidgets>=7.0.0cloudpickle>=0.2.2->swifter) (0.9.2)\n",
      "Requirement already satisfied: jinja2 in c:\\users\\maxim\\appdata\\roaming\\python\\python37\\site-packages (from notebook>=4.4.1->widgetsnbextension~=3.4.0->ipywidgets>=7.0.0cloudpickle>=0.2.2->swifter) (2.11.3)\n",
      "Requirement already satisfied: Send2Trash>=1.5.0 in c:\\programdata\\anaconda3\\lib\\site-packages (from notebook>=4.4.1->widgetsnbextension~=3.4.0->ipywidgets>=7.0.0cloudpickle>=0.2.2->swifter) (1.5.0)\n",
      "Requirement already satisfied: argon2-cffi in c:\\users\\maxim\\appdata\\roaming\\python\\python37\\site-packages (from notebook>=4.4.1->widgetsnbextension~=3.4.0->ipywidgets>=7.0.0cloudpickle>=0.2.2->swifter) (20.1.0)\n",
      "Requirement already satisfied: pywin32>=1.0 in c:\\programdata\\anaconda3\\lib\\site-packages (from jupyter-core->nbformat>=4.2.0->ipywidgets>=7.0.0cloudpickle>=0.2.2->swifter) (223)\n",
      "Requirement already satisfied: pywinpty>=0.5 in c:\\programdata\\anaconda3\\lib\\site-packages (from terminado>=0.8.3->notebook>=4.4.1->widgetsnbextension~=3.4.0->ipywidgets>=7.0.0cloudpickle>=0.2.2->swifter) (0.5.5)\n",
      "Requirement already satisfied: typing-extensions>=3.6.5 in c:\\programdata\\anaconda3\\lib\\site-packages (from aiohttp->ray<1.2.0,>=1.0.0->modin[ray]>=0.8.1.1->swifter) (3.7.4.3)\n",
      "Requirement already satisfied: attrs>=17.3.0 in c:\\users\\maxim\\appdata\\roaming\\python\\python37\\site-packages (from aiohttp->ray<1.2.0,>=1.0.0->modin[ray]>=0.8.1.1->swifter) (20.3.0)\n",
      "Requirement already satisfied: async-timeout<4.0,>=3.0 in c:\\users\\maxim\\appdata\\roaming\\python\\python37\\site-packages (from aiohttp->ray<1.2.0,>=1.0.0->modin[ray]>=0.8.1.1->swifter) (3.0.1)\n",
      "Requirement already satisfied: multidict<7.0,>=4.5 in c:\\users\\maxim\\appdata\\roaming\\python\\python37\\site-packages (from aiohttp->ray<1.2.0,>=1.0.0->modin[ray]>=0.8.1.1->swifter) (5.1.0)\n",
      "Requirement already satisfied: yarl<2.0,>=1.0 in c:\\users\\maxim\\appdata\\roaming\\python\\python37\\site-packages (from aiohttp->ray<1.2.0,>=1.0.0->modin[ray]>=0.8.1.1->swifter) (1.6.3)\n",
      "Requirement already satisfied: chardet<5.0,>=2.0 in c:\\programdata\\anaconda3\\lib\\site-packages (from aiohttp->ray<1.2.0,>=1.0.0->modin[ray]>=0.8.1.1->swifter) (3.0.4)\n",
      "Requirement already satisfied: idna>=2.0 in c:\\programdata\\anaconda3\\lib\\site-packages (from yarl<2.0,>=1.0->aiohttp->ray<1.2.0,>=1.0.0->modin[ray]>=0.8.1.1->swifter) (2.8)\n",
      "Requirement already satisfied: hiredis in c:\\users\\maxim\\appdata\\roaming\\python\\python37\\site-packages (from aioredis->ray<1.2.0,>=1.0.0->modin[ray]>=0.8.1.1->swifter) (1.1.0)\n",
      "Requirement already satisfied: cffi>=1.0.0 in c:\\programdata\\anaconda3\\lib\\site-packages (from argon2-cffi->notebook>=4.4.1->widgetsnbextension~=3.4.0->ipywidgets>=7.0.0cloudpickle>=0.2.2->swifter) (1.11.5)\n",
      "Requirement already satisfied: pycparser in c:\\programdata\\anaconda3\\lib\\site-packages (from cffi>=1.0.0->argon2-cffi->notebook>=4.4.1->widgetsnbextension~=3.4.0->ipywidgets>=7.0.0cloudpickle>=0.2.2->swifter) (2.19)\n",
      "Requirement already satisfied: nvidia-ml-py3>=7.352.0 in c:\\users\\maxim\\appdata\\roaming\\python\\python37\\site-packages (from gpustat->ray<1.2.0,>=1.0.0->modin[ray]>=0.8.1.1->swifter) (7.352.0)\n",
      "Requirement already satisfied: blessings>=1.6 in c:\\users\\maxim\\appdata\\roaming\\python\\python37\\site-packages (from gpustat->ray<1.2.0,>=1.0.0->modin[ray]>=0.8.1.1->swifter) (1.7)\n",
      "Requirement already satisfied: zipp>=0.5 in c:\\programdata\\anaconda3\\lib\\site-packages (from importlib-metadata->fsspec>=0.6.0->dask[dataframe]>=2.10.0->swifter) (3.4.0)\n",
      "Requirement already satisfied: MarkupSafe>=0.23 in c:\\programdata\\anaconda3\\lib\\site-packages (from jinja2->notebook>=4.4.1->widgetsnbextension~=3.4.0->ipywidgets>=7.0.0cloudpickle>=0.2.2->swifter) (1.1.0)\n",
      "Requirement already satisfied: entrypoints>=0.2.2 in c:\\programdata\\anaconda3\\lib\\site-packages (from nbconvert->notebook>=4.4.1->widgetsnbextension~=3.4.0->ipywidgets>=7.0.0cloudpickle>=0.2.2->swifter) (0.2.3)\n",
      "Requirement already satisfied: defusedxml in c:\\programdata\\anaconda3\\lib\\site-packages (from nbconvert->notebook>=4.4.1->widgetsnbextension~=3.4.0->ipywidgets>=7.0.0cloudpickle>=0.2.2->swifter) (0.5.0)\n",
      "Requirement already satisfied: testpath in c:\\programdata\\anaconda3\\lib\\site-packages (from nbconvert->notebook>=4.4.1->widgetsnbextension~=3.4.0->ipywidgets>=7.0.0cloudpickle>=0.2.2->swifter) (0.4.2)\n",
      "Requirement already satisfied: pandocfilters>=1.4.1 in c:\\programdata\\anaconda3\\lib\\site-packages (from nbconvert->notebook>=4.4.1->widgetsnbextension~=3.4.0->ipywidgets>=7.0.0cloudpickle>=0.2.2->swifter) (1.4.2)\n",
      "Requirement already satisfied: mistune>=0.8.1 in c:\\programdata\\anaconda3\\lib\\site-packages (from nbconvert->notebook>=4.4.1->widgetsnbextension~=3.4.0->ipywidgets>=7.0.0cloudpickle>=0.2.2->swifter) (0.8.4)\n",
      "Requirement already satisfied: opencensus-context==0.1.2 in c:\\users\\maxim\\appdata\\roaming\\python\\python37\\site-packages (from opencensus->ray<1.2.0,>=1.0.0->modin[ray]>=0.8.1.1->swifter) (0.1.2)\n",
      "Requirement already satisfied: google-api-core<2.0.0,>=1.0.0 in c:\\users\\maxim\\appdata\\roaming\\python\\python37\\site-packages (from opencensus->ray<1.2.0,>=1.0.0->modin[ray]>=0.8.1.1->swifter) (1.26.1)\n",
      "Requirement already satisfied: google-auth<2.0dev,>=1.21.1 in c:\\users\\maxim\\appdata\\roaming\\python\\python37\\site-packages (from google-api-core<2.0.0,>=1.0.0->opencensus->ray<1.2.0,>=1.0.0->modin[ray]>=0.8.1.1->swifter) (1.24.0)\n",
      "Requirement already satisfied: googleapis-common-protos<2.0dev,>=1.6.0 in c:\\users\\maxim\\appdata\\roaming\\python\\python37\\site-packages (from google-api-core<2.0.0,>=1.0.0->opencensus->ray<1.2.0,>=1.0.0->modin[ray]>=0.8.1.1->swifter) (1.53.0)\n",
      "Requirement already satisfied: cachetools<5.0,>=2.0.0 in c:\\users\\maxim\\appdata\\roaming\\python\\python37\\site-packages (from google-auth<2.0dev,>=1.21.1->google-api-core<2.0.0,>=1.0.0->opencensus->ray<1.2.0,>=1.0.0->modin[ray]>=0.8.1.1->swifter) (4.2.0)\n",
      "Requirement already satisfied: rsa<5,>=3.1.4 in c:\\users\\maxim\\appdata\\roaming\\python\\python37\\site-packages (from google-auth<2.0dev,>=1.21.1->google-api-core<2.0.0,>=1.0.0->opencensus->ray<1.2.0,>=1.0.0->modin[ray]>=0.8.1.1->swifter) (4.7)\n",
      "Requirement already satisfied: pyasn1-modules>=0.2.1 in c:\\users\\maxim\\appdata\\roaming\\python\\python37\\site-packages (from google-auth<2.0dev,>=1.21.1->google-api-core<2.0.0,>=1.0.0->opencensus->ray<1.2.0,>=1.0.0->modin[ray]>=0.8.1.1->swifter) (0.2.8)\n",
      "Requirement already satisfied: pyparsing>=2.0.2 in c:\\programdata\\anaconda3\\lib\\site-packages (from packaging->bleach>=3.1.1->swifter) (2.3.0)\n",
      "Requirement already satisfied: pyasn1<0.5.0,>=0.4.6 in c:\\users\\maxim\\appdata\\roaming\\python\\python37\\site-packages (from pyasn1-modules>=0.2.1->google-auth<2.0dev,>=1.21.1->google-api-core<2.0.0,>=1.0.0->opencensus->ray<1.2.0,>=1.0.0->modin[ray]>=0.8.1.1->swifter) (0.4.8)\n",
      "Requirement already satisfied: certifi>=2017.4.17 in c:\\users\\maxim\\appdata\\roaming\\python\\python37\\site-packages (from requests->ray<1.2.0,>=1.0.0->modin[ray]>=0.8.1.1->swifter) (2020.12.5)\n",
      "Requirement already satisfied: urllib3<1.25,>=1.21.1 in c:\\programdata\\anaconda3\\lib\\site-packages (from requests->ray<1.2.0,>=1.0.0->modin[ray]>=0.8.1.1->swifter) (1.24.1)\n"
     ]
    },
    {
     "name": "stderr",
     "output_type": "stream",
     "text": [
      "WARNING: pip is being invoked by an old script wrapper. This will fail in a future version of pip.\n",
      "Please see https://github.com/pypa/pip/issues/5599 for advice on fixing the underlying issue.\n",
      "To avoid this problem you can invoke Python with '-m pip' instead of running pip directly.\n"
     ]
    }
   ],
   "source": [
    "!pip install swifter"
   ]
  },
  {
   "cell_type": "code",
   "execution_count": 2,
   "metadata": {
    "id": "PghiYhVItcZd"
   },
   "outputs": [],
   "source": [
    "from urllib.error import HTTPError\n",
    "from urllib.request import urlopen\n",
    "from bs4 import BeautifulSoup\n",
    "import os\n",
    "import pandas as pd"
   ]
  },
  {
   "cell_type": "markdown",
   "metadata": {
    "id": "BybNKXyJs8WG"
   },
   "source": [
    "# Create archive links"
   ]
  },
  {
   "cell_type": "code",
   "execution_count": 3,
   "metadata": {
    "id": "WF79zdzrs6Mx"
   },
   "outputs": [],
   "source": [
    "def create_archive_links(year_start, year_end, month_start, month_end, day_start, day_end):\n",
    "    archive_links = {}\n",
    "    for y in range(year_start, year_end + 1):\n",
    "        dates = [str(d).zfill(2) + \"-\" + str(m).zfill(2) + \"-\" +\n",
    "                 str(y) for m in range(month_start, month_end + 1) for d in\n",
    "                 range(day_start, day_end + 1)]\n",
    "        archive_links[y] = [\n",
    "            \"https://www.lemonde.fr/archives-du-monde/\" + date + \"/\" for date in dates]\n",
    "    return archive_links"
   ]
  },
  {
   "cell_type": "code",
   "execution_count": 4,
   "metadata": {
    "id": "OsIuDObHtBPj"
   },
   "outputs": [],
   "source": [
    "#create_archive_links(2006,2020,1, 12, 1, 31)\n",
    "archive_links = create_archive_links(2006,2006,1, 2, 1, 31)"
   ]
  },
  {
   "cell_type": "markdown",
   "metadata": {
    "id": "njRlf3NUtenK"
   },
   "source": [
    "# Scrap"
   ]
  },
  {
   "cell_type": "code",
   "execution_count": 5,
   "metadata": {
    "id": "VfNFxGecth7m"
   },
   "outputs": [],
   "source": [
    "def get_articles_links(archive_links):\n",
    "  '''Each article is in a <section> having a class named teaser and here \n",
    "  I also filter all the non free articles having a span with class icon__premium. \n",
    "  All the links containing the word en-direct are also filtered because they are videos. '''\n",
    "  links_non_abonne = []\n",
    "  for link in archive_links:\n",
    "      try:\n",
    "          html = urlopen(link)\n",
    "      except HTTPError as e:\n",
    "          print(\"url not valid\", link)\n",
    "      else:\n",
    "          soup = BeautifulSoup(html, \"html.parser\")\n",
    "          news = soup.find_all(class_=\"teaser\")\n",
    "          # condition here : if no span icon__premium (abonnes)\n",
    "          for item in news:\n",
    "              if not item.find('span', {'class': 'icon__premium'}):\n",
    "                  l_article = item.find('a')['href']\n",
    "                  # en-direct = video\n",
    "                  if 'en-direct' not in l_article:\n",
    "                      links_non_abonne.append(l_article)\n",
    "  return links_non_abonne"
   ]
  },
  {
   "cell_type": "code",
   "execution_count": 6,
   "metadata": {
    "id": "d-xe-0AQvWwm"
   },
   "outputs": [],
   "source": [
    "def get_single_page(url):\n",
    "    try:\n",
    "        html = urlopen(url)\n",
    "    except HTTPError as e:\n",
    "        print(\"url not valid\", url)\n",
    "    else:\n",
    "        soup = BeautifulSoup(html, \"html.parser\")\n",
    "        try:\n",
    "          text_title = soup.find('h1')\n",
    "        except:\n",
    "          text_title = 'empty' \n",
    "        try:\n",
    "          text_body = soup.article.find_all([\"p\", \"h2\"], recursive=False)\n",
    "        except:\n",
    "          text_body = 'empty'\n",
    "        try:\n",
    "          tag = soup.findAll('li',attrs={'class':'old__nav-content-list-item'})\n",
    "        except:\n",
    "          tag = 'empty'\n",
    "        return [text_title, text_body,tag]"
   ]
  },
  {
   "cell_type": "code",
   "execution_count": 7,
   "metadata": {
    "id": "rLEMt9Bq0aFc"
   },
   "outputs": [],
   "source": [
    "df = pd.DataFrame(columns=['Year', 'Html'])"
   ]
  },
  {
   "cell_type": "code",
   "execution_count": 8,
   "metadata": {
    "colab": {
     "base_uri": "https://localhost:8080/"
    },
    "id": "JKMp-7Iqt2iM",
    "outputId": "6158a2c5-36d5-4bb9-905e-596c6a35d176"
   },
   "outputs": [
    {
     "name": "stdout",
     "output_type": "stream",
     "text": [
      "processing:  2006\n"
     ]
    }
   ],
   "source": [
    "for year,links in archive_links.items():\n",
    "    print(\"processing: \",year)\n",
    "    article_links_list = get_articles_links(links)\n",
    "    temp = pd.DataFrame({'Year': [year]*len(article_links_list), 'Html': article_links_list})\n",
    "    df = df.append(temp)"
   ]
  },
  {
   "cell_type": "code",
   "execution_count": null,
   "metadata": {
    "colab": {
     "base_uri": "https://localhost:8080/",
     "height": 66,
     "referenced_widgets": [
      "fa0aa2ae8842417ba280105eccb66721",
      "78f8513b55bc4c59820e8577d52eded0",
      "0ccd9728579043149d7341010d8ca6ed",
      "089af218c70542d481b46e0fc81a2417",
      "ea30cfd68ec54e17b081a01f2126adf5",
      "752bb6be7ac44076998bacd2acea5449",
      "d68b3ae5252e4c62a1d728b0dc4e689b",
      "ffbf4730bb10462f86a090ba6e3cb0ff"
     ]
    },
    "id": "z7k4B9RTyxZH",
    "outputId": "9000fbf8-47bc-4222-84b2-912854563453"
   },
   "outputs": [],
   "source": [
    "import swifter\n",
    "df['out'] = df['Html'].swifter.apply(get_single_page)"
   ]
  },
  {
   "cell_type": "code",
   "execution_count": null,
   "metadata": {
    "colab": {
     "base_uri": "https://localhost:8080/"
    },
    "id": "7XE5IZyQ9o8I",
    "outputId": "439c436b-059f-4078-b787-5210a5690949"
   },
   "outputs": [],
   "source": [
    "html = urlopen('https://www.lemonde.fr/ameriques/article/2006/01/01/les-zapatistes-lancent-une-autre-campagne-a-six-mois-de-la-presidentielle-mexicaine_726244_3222.html')\n",
    "soup = BeautifulSoup(html, \"html.parser\")\n",
    "soup.findAll('li',attrs={'class':'old__nav-content-list-item'})"
   ]
  },
  {
   "cell_type": "code",
   "execution_count": null,
   "metadata": {
    "id": "7usIbbgP_tpX"
   },
   "outputs": [],
   "source": [
    "def keep(x,nbr):\n",
    "  if len(x)>nbr:\n",
    "    retour=1\n",
    "  else:\n",
    "    retour=0\n",
    "  return retour"
   ]
  },
  {
   "cell_type": "code",
   "execution_count": null,
   "metadata": {
    "id": "w7Qj568_ApIv"
   },
   "outputs": [],
   "source": [
    "df['Titre_OK'] = df['Titre'].apply(lambda x: keep(x,10))\n",
    "df['Body_OK'] = df['Body'].apply(lambda x: keep(x,10))"
   ]
  },
  {
   "cell_type": "code",
   "execution_count": null,
   "metadata": {
    "colab": {
     "base_uri": "https://localhost:8080/"
    },
    "id": "d5XZuVBXDEMt",
    "outputId": "dc0395ae-b69d-41b7-c04d-5b455727ce29"
   },
   "outputs": [],
   "source": [
    "df['Body_OK'].sum()/len(df['Body'])*100"
   ]
  }
 ],
 "metadata": {
  "colab": {
   "collapsed_sections": [],
   "name": "Scrapper_le_monde.ipynb",
   "provenance": []
  },
  "kernelspec": {
   "display_name": "Python 3",
   "language": "python",
   "name": "python3"
  },
  "language_info": {
   "codemirror_mode": {
    "name": "ipython",
    "version": 3
   },
   "file_extension": ".py",
   "mimetype": "text/x-python",
   "name": "python",
   "nbconvert_exporter": "python",
   "pygments_lexer": "ipython3",
   "version": "3.7.1"
  },
  "widgets": {
   "application/vnd.jupyter.widget-state+json": {
    "089af218c70542d481b46e0fc81a2417": {
     "model_module": "@jupyter-widgets/controls",
     "model_name": "HTMLModel",
     "state": {
      "_dom_classes": [],
      "_model_module": "@jupyter-widgets/controls",
      "_model_module_version": "1.5.0",
      "_model_name": "HTMLModel",
      "_view_count": null,
      "_view_module": "@jupyter-widgets/controls",
      "_view_module_version": "1.5.0",
      "_view_name": "HTMLView",
      "description": "",
      "description_tooltip": null,
      "layout": "IPY_MODEL_ffbf4730bb10462f86a090ba6e3cb0ff",
      "placeholder": "​",
      "style": "IPY_MODEL_d68b3ae5252e4c62a1d728b0dc4e689b",
      "value": " 2270/2270 [08:49&lt;00:00,  4.29it/s]"
     }
    },
    "0ccd9728579043149d7341010d8ca6ed": {
     "model_module": "@jupyter-widgets/controls",
     "model_name": "FloatProgressModel",
     "state": {
      "_dom_classes": [],
      "_model_module": "@jupyter-widgets/controls",
      "_model_module_version": "1.5.0",
      "_model_name": "FloatProgressModel",
      "_view_count": null,
      "_view_module": "@jupyter-widgets/controls",
      "_view_module_version": "1.5.0",
      "_view_name": "ProgressView",
      "bar_style": "success",
      "description": "Pandas Apply: 100%",
      "description_tooltip": null,
      "layout": "IPY_MODEL_752bb6be7ac44076998bacd2acea5449",
      "max": 2270,
      "min": 0,
      "orientation": "horizontal",
      "style": "IPY_MODEL_ea30cfd68ec54e17b081a01f2126adf5",
      "value": 2270
     }
    },
    "752bb6be7ac44076998bacd2acea5449": {
     "model_module": "@jupyter-widgets/base",
     "model_name": "LayoutModel",
     "state": {
      "_model_module": "@jupyter-widgets/base",
      "_model_module_version": "1.2.0",
      "_model_name": "LayoutModel",
      "_view_count": null,
      "_view_module": "@jupyter-widgets/base",
      "_view_module_version": "1.2.0",
      "_view_name": "LayoutView",
      "align_content": null,
      "align_items": null,
      "align_self": null,
      "border": null,
      "bottom": null,
      "display": null,
      "flex": null,
      "flex_flow": null,
      "grid_area": null,
      "grid_auto_columns": null,
      "grid_auto_flow": null,
      "grid_auto_rows": null,
      "grid_column": null,
      "grid_gap": null,
      "grid_row": null,
      "grid_template_areas": null,
      "grid_template_columns": null,
      "grid_template_rows": null,
      "height": null,
      "justify_content": null,
      "justify_items": null,
      "left": null,
      "margin": null,
      "max_height": null,
      "max_width": null,
      "min_height": null,
      "min_width": null,
      "object_fit": null,
      "object_position": null,
      "order": null,
      "overflow": null,
      "overflow_x": null,
      "overflow_y": null,
      "padding": null,
      "right": null,
      "top": null,
      "visibility": null,
      "width": null
     }
    },
    "78f8513b55bc4c59820e8577d52eded0": {
     "model_module": "@jupyter-widgets/base",
     "model_name": "LayoutModel",
     "state": {
      "_model_module": "@jupyter-widgets/base",
      "_model_module_version": "1.2.0",
      "_model_name": "LayoutModel",
      "_view_count": null,
      "_view_module": "@jupyter-widgets/base",
      "_view_module_version": "1.2.0",
      "_view_name": "LayoutView",
      "align_content": null,
      "align_items": null,
      "align_self": null,
      "border": null,
      "bottom": null,
      "display": null,
      "flex": null,
      "flex_flow": null,
      "grid_area": null,
      "grid_auto_columns": null,
      "grid_auto_flow": null,
      "grid_auto_rows": null,
      "grid_column": null,
      "grid_gap": null,
      "grid_row": null,
      "grid_template_areas": null,
      "grid_template_columns": null,
      "grid_template_rows": null,
      "height": null,
      "justify_content": null,
      "justify_items": null,
      "left": null,
      "margin": null,
      "max_height": null,
      "max_width": null,
      "min_height": null,
      "min_width": null,
      "object_fit": null,
      "object_position": null,
      "order": null,
      "overflow": null,
      "overflow_x": null,
      "overflow_y": null,
      "padding": null,
      "right": null,
      "top": null,
      "visibility": null,
      "width": null
     }
    },
    "d68b3ae5252e4c62a1d728b0dc4e689b": {
     "model_module": "@jupyter-widgets/controls",
     "model_name": "DescriptionStyleModel",
     "state": {
      "_model_module": "@jupyter-widgets/controls",
      "_model_module_version": "1.5.0",
      "_model_name": "DescriptionStyleModel",
      "_view_count": null,
      "_view_module": "@jupyter-widgets/base",
      "_view_module_version": "1.2.0",
      "_view_name": "StyleView",
      "description_width": ""
     }
    },
    "ea30cfd68ec54e17b081a01f2126adf5": {
     "model_module": "@jupyter-widgets/controls",
     "model_name": "ProgressStyleModel",
     "state": {
      "_model_module": "@jupyter-widgets/controls",
      "_model_module_version": "1.5.0",
      "_model_name": "ProgressStyleModel",
      "_view_count": null,
      "_view_module": "@jupyter-widgets/base",
      "_view_module_version": "1.2.0",
      "_view_name": "StyleView",
      "bar_color": null,
      "description_width": "initial"
     }
    },
    "fa0aa2ae8842417ba280105eccb66721": {
     "model_module": "@jupyter-widgets/controls",
     "model_name": "HBoxModel",
     "state": {
      "_dom_classes": [],
      "_model_module": "@jupyter-widgets/controls",
      "_model_module_version": "1.5.0",
      "_model_name": "HBoxModel",
      "_view_count": null,
      "_view_module": "@jupyter-widgets/controls",
      "_view_module_version": "1.5.0",
      "_view_name": "HBoxView",
      "box_style": "",
      "children": [
       "IPY_MODEL_0ccd9728579043149d7341010d8ca6ed",
       "IPY_MODEL_089af218c70542d481b46e0fc81a2417"
      ],
      "layout": "IPY_MODEL_78f8513b55bc4c59820e8577d52eded0"
     }
    },
    "ffbf4730bb10462f86a090ba6e3cb0ff": {
     "model_module": "@jupyter-widgets/base",
     "model_name": "LayoutModel",
     "state": {
      "_model_module": "@jupyter-widgets/base",
      "_model_module_version": "1.2.0",
      "_model_name": "LayoutModel",
      "_view_count": null,
      "_view_module": "@jupyter-widgets/base",
      "_view_module_version": "1.2.0",
      "_view_name": "LayoutView",
      "align_content": null,
      "align_items": null,
      "align_self": null,
      "border": null,
      "bottom": null,
      "display": null,
      "flex": null,
      "flex_flow": null,
      "grid_area": null,
      "grid_auto_columns": null,
      "grid_auto_flow": null,
      "grid_auto_rows": null,
      "grid_column": null,
      "grid_gap": null,
      "grid_row": null,
      "grid_template_areas": null,
      "grid_template_columns": null,
      "grid_template_rows": null,
      "height": null,
      "justify_content": null,
      "justify_items": null,
      "left": null,
      "margin": null,
      "max_height": null,
      "max_width": null,
      "min_height": null,
      "min_width": null,
      "object_fit": null,
      "object_position": null,
      "order": null,
      "overflow": null,
      "overflow_x": null,
      "overflow_y": null,
      "padding": null,
      "right": null,
      "top": null,
      "visibility": null,
      "width": null
     }
    }
   }
  }
 },
 "nbformat": 4,
 "nbformat_minor": 1
}
